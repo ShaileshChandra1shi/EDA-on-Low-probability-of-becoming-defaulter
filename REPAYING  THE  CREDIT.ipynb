{
 "cells": [
  {
   "attachments": {},
   "cell_type": "markdown",
   "id": "1235f28e",
   "metadata": {},
   "source": [
    "### REPAYING  THE  CREDIT"
   ]
  },
  {
   "cell_type": "code",
   "execution_count": 1,
   "id": "0f76fd1d",
   "metadata": {},
   "outputs": [],
   "source": [
    "import matplotlib.pyplot as plt             # to visualize\n",
    "from tabulate import tabulate               # to print the table\n",
    "import matplotlib as mat                    # to visualize \n",
    "import seaborn as sns                       # to visualize\n",
    "import pandas as pd                         # for data reading\n",
    "import numpy as np                          # for numerical computation\n",
    "import seaborn as sb"
   ]
  },
  {
   "cell_type": "code",
   "execution_count": 2,
   "id": "729a95eb",
   "metadata": {},
   "outputs": [
    {
     "name": "stdout",
     "output_type": "stream",
     "text": [
      "Pandas version:  1.4.2\n",
      "Seaborn version:  0.11.2\n",
      "Matplotlib version:  3.5.1\n"
     ]
    }
   ],
   "source": [
    "# Check for the version of the libraries \n",
    "print(\"Pandas version: \",pd.__version__)\n",
    "print(\"Seaborn version: \",sns.__version__)\n",
    "print(\"Matplotlib version: \",mat.__version__)"
   ]
  },
  {
   "cell_type": "code",
   "execution_count": 3,
   "id": "5eb22cff",
   "metadata": {},
   "outputs": [],
   "source": [
    "df = pd.read_csv(\"Gold_Atlantis.csv\")"
   ]
  },
  {
   "cell_type": "markdown",
   "id": "3f8cee37",
   "metadata": {},
   "source": [
    "## Level 0 analysis"
   ]
  },
  {
   "cell_type": "code",
   "execution_count": 4,
   "id": "09716757",
   "metadata": {},
   "outputs": [
    {
     "data": {
      "text/html": [
       "<div>\n",
       "<style scoped>\n",
       "    .dataframe tbody tr th:only-of-type {\n",
       "        vertical-align: middle;\n",
       "    }\n",
       "\n",
       "    .dataframe tbody tr th {\n",
       "        vertical-align: top;\n",
       "    }\n",
       "\n",
       "    .dataframe thead th {\n",
       "        text-align: right;\n",
       "    }\n",
       "</style>\n",
       "<table border=\"1\" class=\"dataframe\">\n",
       "  <thead>\n",
       "    <tr style=\"text-align: right;\">\n",
       "      <th></th>\n",
       "      <th>SK_ID_CURR</th>\n",
       "      <th>TARGET</th>\n",
       "      <th>NAME_CONTRACT_TYPE</th>\n",
       "      <th>GENDER</th>\n",
       "      <th>Car</th>\n",
       "      <th>House</th>\n",
       "      <th>CNT_CHILDREN</th>\n",
       "      <th>AMT_INCOME_TOTAL</th>\n",
       "      <th>AMT_CREDIT</th>\n",
       "      <th>AMT_GOODS_PRICE</th>\n",
       "      <th>...</th>\n",
       "      <th>DAYS_EMPLOYED</th>\n",
       "      <th>MOBILE</th>\n",
       "      <th>WORK_PHONE</th>\n",
       "      <th>HOME_PHONE</th>\n",
       "      <th>MOBILE_REACHABLE</th>\n",
       "      <th>FLAG_EMAIL</th>\n",
       "      <th>OCCUPATION_TYPE</th>\n",
       "      <th>CNT_FAM_MEMBERS</th>\n",
       "      <th>APPLICATION_DAY</th>\n",
       "      <th>TOTAL_DOC_SUBMITTED</th>\n",
       "    </tr>\n",
       "  </thead>\n",
       "  <tbody>\n",
       "    <tr>\n",
       "      <th>0</th>\n",
       "      <td>100002</td>\n",
       "      <td>1</td>\n",
       "      <td>Cash loans</td>\n",
       "      <td>M</td>\n",
       "      <td>N</td>\n",
       "      <td>Y</td>\n",
       "      <td>0</td>\n",
       "      <td>202500.0</td>\n",
       "      <td>406597.5</td>\n",
       "      <td>351000.0</td>\n",
       "      <td>...</td>\n",
       "      <td>-637</td>\n",
       "      <td>1</td>\n",
       "      <td>1</td>\n",
       "      <td>0</td>\n",
       "      <td>1</td>\n",
       "      <td>0</td>\n",
       "      <td>Laborers</td>\n",
       "      <td>1.0</td>\n",
       "      <td>WEDNESDAY</td>\n",
       "      <td>1</td>\n",
       "    </tr>\n",
       "    <tr>\n",
       "      <th>1</th>\n",
       "      <td>100003</td>\n",
       "      <td>0</td>\n",
       "      <td>Cash loans</td>\n",
       "      <td>F</td>\n",
       "      <td>N</td>\n",
       "      <td>N</td>\n",
       "      <td>0</td>\n",
       "      <td>270000.0</td>\n",
       "      <td>1293502.5</td>\n",
       "      <td>1129500.0</td>\n",
       "      <td>...</td>\n",
       "      <td>-1188</td>\n",
       "      <td>1</td>\n",
       "      <td>1</td>\n",
       "      <td>0</td>\n",
       "      <td>1</td>\n",
       "      <td>0</td>\n",
       "      <td>Core staff</td>\n",
       "      <td>2.0</td>\n",
       "      <td>MONDAY</td>\n",
       "      <td>1</td>\n",
       "    </tr>\n",
       "    <tr>\n",
       "      <th>2</th>\n",
       "      <td>100004</td>\n",
       "      <td>0</td>\n",
       "      <td>Revolving loans</td>\n",
       "      <td>M</td>\n",
       "      <td>Y</td>\n",
       "      <td>Y</td>\n",
       "      <td>0</td>\n",
       "      <td>67500.0</td>\n",
       "      <td>135000.0</td>\n",
       "      <td>135000.0</td>\n",
       "      <td>...</td>\n",
       "      <td>-225</td>\n",
       "      <td>1</td>\n",
       "      <td>1</td>\n",
       "      <td>1</td>\n",
       "      <td>1</td>\n",
       "      <td>0</td>\n",
       "      <td>Laborers</td>\n",
       "      <td>1.0</td>\n",
       "      <td>MONDAY</td>\n",
       "      <td>0</td>\n",
       "    </tr>\n",
       "  </tbody>\n",
       "</table>\n",
       "<p>3 rows × 24 columns</p>\n",
       "</div>"
      ],
      "text/plain": [
       "   SK_ID_CURR  TARGET NAME_CONTRACT_TYPE GENDER Car House  CNT_CHILDREN  \\\n",
       "0      100002       1         Cash loans      M   N     Y             0   \n",
       "1      100003       0         Cash loans      F   N     N             0   \n",
       "2      100004       0    Revolving loans      M   Y     Y             0   \n",
       "\n",
       "   AMT_INCOME_TOTAL  AMT_CREDIT  AMT_GOODS_PRICE  ... DAYS_EMPLOYED MOBILE  \\\n",
       "0          202500.0    406597.5         351000.0  ...          -637      1   \n",
       "1          270000.0   1293502.5        1129500.0  ...         -1188      1   \n",
       "2           67500.0    135000.0         135000.0  ...          -225      1   \n",
       "\n",
       "  WORK_PHONE HOME_PHONE  MOBILE_REACHABLE  FLAG_EMAIL  OCCUPATION_TYPE  \\\n",
       "0          1          0                 1           0         Laborers   \n",
       "1          1          0                 1           0       Core staff   \n",
       "2          1          1                 1           0         Laborers   \n",
       "\n",
       "   CNT_FAM_MEMBERS  APPLICATION_DAY  TOTAL_DOC_SUBMITTED  \n",
       "0              1.0        WEDNESDAY                    1  \n",
       "1              2.0           MONDAY                    1  \n",
       "2              1.0           MONDAY                    0  \n",
       "\n",
       "[3 rows x 24 columns]"
      ]
     },
     "execution_count": 4,
     "metadata": {},
     "output_type": "execute_result"
    }
   ],
   "source": [
    "df.head(3) # head prints the top 3 rows "
   ]
  },
  {
   "cell_type": "code",
   "execution_count": 5,
   "id": "033cee91",
   "metadata": {},
   "outputs": [
    {
     "data": {
      "text/html": [
       "<div>\n",
       "<style scoped>\n",
       "    .dataframe tbody tr th:only-of-type {\n",
       "        vertical-align: middle;\n",
       "    }\n",
       "\n",
       "    .dataframe tbody tr th {\n",
       "        vertical-align: top;\n",
       "    }\n",
       "\n",
       "    .dataframe thead th {\n",
       "        text-align: right;\n",
       "    }\n",
       "</style>\n",
       "<table border=\"1\" class=\"dataframe\">\n",
       "  <thead>\n",
       "    <tr style=\"text-align: right;\">\n",
       "      <th></th>\n",
       "      <th>SK_ID_CURR</th>\n",
       "      <th>TARGET</th>\n",
       "      <th>NAME_CONTRACT_TYPE</th>\n",
       "      <th>GENDER</th>\n",
       "      <th>Car</th>\n",
       "      <th>House</th>\n",
       "      <th>CNT_CHILDREN</th>\n",
       "      <th>AMT_INCOME_TOTAL</th>\n",
       "      <th>AMT_CREDIT</th>\n",
       "      <th>AMT_GOODS_PRICE</th>\n",
       "      <th>...</th>\n",
       "      <th>DAYS_EMPLOYED</th>\n",
       "      <th>MOBILE</th>\n",
       "      <th>WORK_PHONE</th>\n",
       "      <th>HOME_PHONE</th>\n",
       "      <th>MOBILE_REACHABLE</th>\n",
       "      <th>FLAG_EMAIL</th>\n",
       "      <th>OCCUPATION_TYPE</th>\n",
       "      <th>CNT_FAM_MEMBERS</th>\n",
       "      <th>APPLICATION_DAY</th>\n",
       "      <th>TOTAL_DOC_SUBMITTED</th>\n",
       "    </tr>\n",
       "  </thead>\n",
       "  <tbody>\n",
       "    <tr>\n",
       "      <th>99997</th>\n",
       "      <td>216088</td>\n",
       "      <td>0</td>\n",
       "      <td>Cash loans</td>\n",
       "      <td>F</td>\n",
       "      <td>Y</td>\n",
       "      <td>Y</td>\n",
       "      <td>0</td>\n",
       "      <td>135000.0</td>\n",
       "      <td>1262583.0</td>\n",
       "      <td>1102500.0</td>\n",
       "      <td>...</td>\n",
       "      <td>-4805</td>\n",
       "      <td>1</td>\n",
       "      <td>1</td>\n",
       "      <td>0</td>\n",
       "      <td>1</td>\n",
       "      <td>0</td>\n",
       "      <td>Sales staff</td>\n",
       "      <td>2.0</td>\n",
       "      <td>TUESDAY</td>\n",
       "      <td>1</td>\n",
       "    </tr>\n",
       "    <tr>\n",
       "      <th>99998</th>\n",
       "      <td>216089</td>\n",
       "      <td>0</td>\n",
       "      <td>Cash loans</td>\n",
       "      <td>F</td>\n",
       "      <td>Y</td>\n",
       "      <td>N</td>\n",
       "      <td>0</td>\n",
       "      <td>135000.0</td>\n",
       "      <td>225000.0</td>\n",
       "      <td>225000.0</td>\n",
       "      <td>...</td>\n",
       "      <td>-340</td>\n",
       "      <td>1</td>\n",
       "      <td>1</td>\n",
       "      <td>0</td>\n",
       "      <td>1</td>\n",
       "      <td>0</td>\n",
       "      <td>Sales staff</td>\n",
       "      <td>2.0</td>\n",
       "      <td>FRIDAY</td>\n",
       "      <td>2</td>\n",
       "    </tr>\n",
       "    <tr>\n",
       "      <th>99999</th>\n",
       "      <td>216090</td>\n",
       "      <td>0</td>\n",
       "      <td>Revolving loans</td>\n",
       "      <td>M</td>\n",
       "      <td>Y</td>\n",
       "      <td>Y</td>\n",
       "      <td>0</td>\n",
       "      <td>202500.0</td>\n",
       "      <td>337500.0</td>\n",
       "      <td>337500.0</td>\n",
       "      <td>...</td>\n",
       "      <td>-3230</td>\n",
       "      <td>1</td>\n",
       "      <td>1</td>\n",
       "      <td>1</td>\n",
       "      <td>1</td>\n",
       "      <td>0</td>\n",
       "      <td>Drivers</td>\n",
       "      <td>2.0</td>\n",
       "      <td>SATURDAY</td>\n",
       "      <td>0</td>\n",
       "    </tr>\n",
       "  </tbody>\n",
       "</table>\n",
       "<p>3 rows × 24 columns</p>\n",
       "</div>"
      ],
      "text/plain": [
       "       SK_ID_CURR  TARGET NAME_CONTRACT_TYPE GENDER Car House  CNT_CHILDREN  \\\n",
       "99997      216088       0         Cash loans      F   Y     Y             0   \n",
       "99998      216089       0         Cash loans      F   Y     N             0   \n",
       "99999      216090       0    Revolving loans      M   Y     Y             0   \n",
       "\n",
       "       AMT_INCOME_TOTAL  AMT_CREDIT  AMT_GOODS_PRICE  ... DAYS_EMPLOYED  \\\n",
       "99997          135000.0   1262583.0        1102500.0  ...         -4805   \n",
       "99998          135000.0    225000.0         225000.0  ...          -340   \n",
       "99999          202500.0    337500.0         337500.0  ...         -3230   \n",
       "\n",
       "      MOBILE WORK_PHONE HOME_PHONE  MOBILE_REACHABLE  FLAG_EMAIL  \\\n",
       "99997      1          1          0                 1           0   \n",
       "99998      1          1          0                 1           0   \n",
       "99999      1          1          1                 1           0   \n",
       "\n",
       "       OCCUPATION_TYPE  CNT_FAM_MEMBERS  APPLICATION_DAY  TOTAL_DOC_SUBMITTED  \n",
       "99997      Sales staff              2.0          TUESDAY                    1  \n",
       "99998      Sales staff              2.0           FRIDAY                    2  \n",
       "99999          Drivers              2.0         SATURDAY                    0  \n",
       "\n",
       "[3 rows x 24 columns]"
      ]
     },
     "execution_count": 5,
     "metadata": {},
     "output_type": "execute_result"
    }
   ],
   "source": [
    "df.tail(3) # tail returns the bottom 3 rows"
   ]
  },
  {
   "cell_type": "code",
   "execution_count": 6,
   "id": "877d5f17",
   "metadata": {},
   "outputs": [
    {
     "name": "stdout",
     "output_type": "stream",
     "text": [
      "(100000, 24)\n"
     ]
    }
   ],
   "source": [
    "print(df.shape) #returns a tuple of number of rows and columns "
   ]
  },
  {
   "cell_type": "code",
   "execution_count": 7,
   "id": "8b928997",
   "metadata": {},
   "outputs": [
    {
     "name": "stdout",
     "output_type": "stream",
     "text": [
      "Index(['SK_ID_CURR', 'TARGET', 'NAME_CONTRACT_TYPE', 'GENDER', 'Car', 'House',\n",
      "       'CNT_CHILDREN', 'AMT_INCOME_TOTAL', 'AMT_CREDIT', 'AMT_GOODS_PRICE',\n",
      "       'NAME_TYPE_SUITE', 'NAME_INCOME_TYPE', 'NAME_EDUCATION_TYPE',\n",
      "       'NAME_FAMILY_STATUS', 'DAYS_EMPLOYED', 'MOBILE', 'WORK_PHONE',\n",
      "       'HOME_PHONE', 'MOBILE_REACHABLE', 'FLAG_EMAIL', 'OCCUPATION_TYPE',\n",
      "       'CNT_FAM_MEMBERS', 'APPLICATION_DAY', 'TOTAL_DOC_SUBMITTED'],\n",
      "      dtype='object')\n"
     ]
    }
   ],
   "source": [
    "print(df.columns) # returns array of columns in dataset "
   ]
  },
  {
   "cell_type": "code",
   "execution_count": 8,
   "id": "24bfbfe8",
   "metadata": {},
   "outputs": [
    {
     "name": "stdout",
     "output_type": "stream",
     "text": [
      "<class 'pandas.core.frame.DataFrame'>\n",
      "RangeIndex: 100000 entries, 0 to 99999\n",
      "Data columns (total 24 columns):\n",
      " #   Column               Non-Null Count   Dtype  \n",
      "---  ------               --------------   -----  \n",
      " 0   SK_ID_CURR           100000 non-null  int64  \n",
      " 1   TARGET               100000 non-null  int64  \n",
      " 2   NAME_CONTRACT_TYPE   100000 non-null  object \n",
      " 3   GENDER               100000 non-null  object \n",
      " 4   Car                  100000 non-null  object \n",
      " 5   House                100000 non-null  object \n",
      " 6   CNT_CHILDREN         100000 non-null  int64  \n",
      " 7   AMT_INCOME_TOTAL     100000 non-null  float64\n",
      " 8   AMT_CREDIT           100000 non-null  float64\n",
      " 9   AMT_GOODS_PRICE      99919 non-null   float64\n",
      " 10  NAME_TYPE_SUITE      99595 non-null   object \n",
      " 11  NAME_INCOME_TYPE     100000 non-null  object \n",
      " 12  NAME_EDUCATION_TYPE  100000 non-null  object \n",
      " 13  NAME_FAMILY_STATUS   100000 non-null  object \n",
      " 14  DAYS_EMPLOYED        100000 non-null  int64  \n",
      " 15  MOBILE               100000 non-null  int64  \n",
      " 16  WORK_PHONE           100000 non-null  int64  \n",
      " 17  HOME_PHONE           100000 non-null  int64  \n",
      " 18  MOBILE_REACHABLE     100000 non-null  int64  \n",
      " 19  FLAG_EMAIL           100000 non-null  int64  \n",
      " 20  OCCUPATION_TYPE      68776 non-null   object \n",
      " 21  CNT_FAM_MEMBERS      99999 non-null   float64\n",
      " 22  APPLICATION_DAY      100000 non-null  object \n",
      " 23  TOTAL_DOC_SUBMITTED  100000 non-null  int64  \n",
      "dtypes: float64(4), int64(10), object(10)\n",
      "memory usage: 18.3+ MB\n"
     ]
    }
   ],
   "source": [
    "df.info()       # returns the information about the dataset"
   ]
  },
  {
   "cell_type": "code",
   "execution_count": 9,
   "id": "35f52958",
   "metadata": {},
   "outputs": [
    {
     "data": {
      "text/plain": [
       "SK_ID_CURR                 0\n",
       "TARGET                     0\n",
       "NAME_CONTRACT_TYPE         0\n",
       "GENDER                     0\n",
       "Car                        0\n",
       "House                      0\n",
       "CNT_CHILDREN               0\n",
       "AMT_INCOME_TOTAL           0\n",
       "AMT_CREDIT                 0\n",
       "AMT_GOODS_PRICE           81\n",
       "NAME_TYPE_SUITE          405\n",
       "NAME_INCOME_TYPE           0\n",
       "NAME_EDUCATION_TYPE        0\n",
       "NAME_FAMILY_STATUS         0\n",
       "DAYS_EMPLOYED              0\n",
       "MOBILE                     0\n",
       "WORK_PHONE                 0\n",
       "HOME_PHONE                 0\n",
       "MOBILE_REACHABLE           0\n",
       "FLAG_EMAIL                 0\n",
       "OCCUPATION_TYPE        31224\n",
       "CNT_FAM_MEMBERS            1\n",
       "APPLICATION_DAY            0\n",
       "TOTAL_DOC_SUBMITTED        0\n",
       "dtype: int64"
      ]
     },
     "execution_count": 9,
     "metadata": {},
     "output_type": "execute_result"
    }
   ],
   "source": [
    "df.isnull().sum()  "
   ]
  },
  {
   "cell_type": "markdown",
   "id": "be302426",
   "metadata": {},
   "source": [
    "LEVEL 1 Analysis \n",
    "-------------------------\n",
    "Identify the type of data in each column (categorical or numerical)?\n",
    "1. Seperate out the categorical columns from the numerical types\n",
    "\n",
    "### Following are the kinds of analysis that can be performed on categorical data:\n",
    "1. Check if the variable is  Nominal or Ordinal.\n",
    "2. Check how many categories are present in a variable.\n",
    "3. Check the Mode of a variable.\n",
    "4. Check for Missing values of a variable.\n",
    "5. Think how the missing values could be treated.\n",
    "6. What kind of graph/chart can be plotted using this data.\n",
    "\n",
    "Note: We are analyzing only one column at a time (a.k.a. Univariate Analysis)"
   ]
  },
  {
   "cell_type": "code",
   "execution_count": 10,
   "id": "25d2b3e2",
   "metadata": {},
   "outputs": [],
   "source": [
    "a = df.select_dtypes(exclude='object')"
   ]
  },
  {
   "cell_type": "code",
   "execution_count": 11,
   "id": "436949be",
   "metadata": {},
   "outputs": [],
   "source": [
    "b = df.select_dtypes(include='object')"
   ]
  },
  {
   "cell_type": "code",
   "execution_count": 12,
   "id": "25e09d8a",
   "metadata": {},
   "outputs": [
    {
     "data": {
      "text/html": [
       "<div>\n",
       "<style scoped>\n",
       "    .dataframe tbody tr th:only-of-type {\n",
       "        vertical-align: middle;\n",
       "    }\n",
       "\n",
       "    .dataframe tbody tr th {\n",
       "        vertical-align: top;\n",
       "    }\n",
       "\n",
       "    .dataframe thead th {\n",
       "        text-align: right;\n",
       "    }\n",
       "</style>\n",
       "<table border=\"1\" class=\"dataframe\">\n",
       "  <thead>\n",
       "    <tr style=\"text-align: right;\">\n",
       "      <th></th>\n",
       "      <th>SK_ID_CURR</th>\n",
       "      <th>TARGET</th>\n",
       "      <th>CNT_CHILDREN</th>\n",
       "      <th>AMT_INCOME_TOTAL</th>\n",
       "      <th>AMT_CREDIT</th>\n",
       "      <th>AMT_GOODS_PRICE</th>\n",
       "      <th>DAYS_EMPLOYED</th>\n",
       "      <th>MOBILE</th>\n",
       "      <th>WORK_PHONE</th>\n",
       "      <th>HOME_PHONE</th>\n",
       "      <th>MOBILE_REACHABLE</th>\n",
       "      <th>FLAG_EMAIL</th>\n",
       "      <th>CNT_FAM_MEMBERS</th>\n",
       "      <th>TOTAL_DOC_SUBMITTED</th>\n",
       "    </tr>\n",
       "  </thead>\n",
       "  <tbody>\n",
       "    <tr>\n",
       "      <th>0</th>\n",
       "      <td>100002</td>\n",
       "      <td>1</td>\n",
       "      <td>0</td>\n",
       "      <td>202500.0</td>\n",
       "      <td>406597.5</td>\n",
       "      <td>351000.0</td>\n",
       "      <td>-637</td>\n",
       "      <td>1</td>\n",
       "      <td>1</td>\n",
       "      <td>0</td>\n",
       "      <td>1</td>\n",
       "      <td>0</td>\n",
       "      <td>1.0</td>\n",
       "      <td>1</td>\n",
       "    </tr>\n",
       "    <tr>\n",
       "      <th>1</th>\n",
       "      <td>100003</td>\n",
       "      <td>0</td>\n",
       "      <td>0</td>\n",
       "      <td>270000.0</td>\n",
       "      <td>1293502.5</td>\n",
       "      <td>1129500.0</td>\n",
       "      <td>-1188</td>\n",
       "      <td>1</td>\n",
       "      <td>1</td>\n",
       "      <td>0</td>\n",
       "      <td>1</td>\n",
       "      <td>0</td>\n",
       "      <td>2.0</td>\n",
       "      <td>1</td>\n",
       "    </tr>\n",
       "    <tr>\n",
       "      <th>2</th>\n",
       "      <td>100004</td>\n",
       "      <td>0</td>\n",
       "      <td>0</td>\n",
       "      <td>67500.0</td>\n",
       "      <td>135000.0</td>\n",
       "      <td>135000.0</td>\n",
       "      <td>-225</td>\n",
       "      <td>1</td>\n",
       "      <td>1</td>\n",
       "      <td>1</td>\n",
       "      <td>1</td>\n",
       "      <td>0</td>\n",
       "      <td>1.0</td>\n",
       "      <td>0</td>\n",
       "    </tr>\n",
       "  </tbody>\n",
       "</table>\n",
       "</div>"
      ],
      "text/plain": [
       "   SK_ID_CURR  TARGET  CNT_CHILDREN  AMT_INCOME_TOTAL  AMT_CREDIT  \\\n",
       "0      100002       1             0          202500.0    406597.5   \n",
       "1      100003       0             0          270000.0   1293502.5   \n",
       "2      100004       0             0           67500.0    135000.0   \n",
       "\n",
       "   AMT_GOODS_PRICE  DAYS_EMPLOYED  MOBILE  WORK_PHONE  HOME_PHONE  \\\n",
       "0         351000.0           -637       1           1           0   \n",
       "1        1129500.0          -1188       1           1           0   \n",
       "2         135000.0           -225       1           1           1   \n",
       "\n",
       "   MOBILE_REACHABLE  FLAG_EMAIL  CNT_FAM_MEMBERS  TOTAL_DOC_SUBMITTED  \n",
       "0                 1           0              1.0                    1  \n",
       "1                 1           0              2.0                    1  \n",
       "2                 1           0              1.0                    0  "
      ]
     },
     "execution_count": 12,
     "metadata": {},
     "output_type": "execute_result"
    }
   ],
   "source": [
    "a.head(3)"
   ]
  },
  {
   "cell_type": "code",
   "execution_count": 13,
   "id": "038c39ad",
   "metadata": {},
   "outputs": [
    {
     "data": {
      "text/html": [
       "<div>\n",
       "<style scoped>\n",
       "    .dataframe tbody tr th:only-of-type {\n",
       "        vertical-align: middle;\n",
       "    }\n",
       "\n",
       "    .dataframe tbody tr th {\n",
       "        vertical-align: top;\n",
       "    }\n",
       "\n",
       "    .dataframe thead th {\n",
       "        text-align: right;\n",
       "    }\n",
       "</style>\n",
       "<table border=\"1\" class=\"dataframe\">\n",
       "  <thead>\n",
       "    <tr style=\"text-align: right;\">\n",
       "      <th></th>\n",
       "      <th>NAME_CONTRACT_TYPE</th>\n",
       "      <th>GENDER</th>\n",
       "      <th>Car</th>\n",
       "      <th>House</th>\n",
       "      <th>NAME_TYPE_SUITE</th>\n",
       "      <th>NAME_INCOME_TYPE</th>\n",
       "      <th>NAME_EDUCATION_TYPE</th>\n",
       "      <th>NAME_FAMILY_STATUS</th>\n",
       "      <th>OCCUPATION_TYPE</th>\n",
       "      <th>APPLICATION_DAY</th>\n",
       "    </tr>\n",
       "  </thead>\n",
       "  <tbody>\n",
       "    <tr>\n",
       "      <th>0</th>\n",
       "      <td>Cash loans</td>\n",
       "      <td>M</td>\n",
       "      <td>N</td>\n",
       "      <td>Y</td>\n",
       "      <td>Unaccompanied</td>\n",
       "      <td>Working</td>\n",
       "      <td>Secondary / secondary special</td>\n",
       "      <td>Single / not married</td>\n",
       "      <td>Laborers</td>\n",
       "      <td>WEDNESDAY</td>\n",
       "    </tr>\n",
       "    <tr>\n",
       "      <th>1</th>\n",
       "      <td>Cash loans</td>\n",
       "      <td>F</td>\n",
       "      <td>N</td>\n",
       "      <td>N</td>\n",
       "      <td>Family</td>\n",
       "      <td>State servant</td>\n",
       "      <td>Higher education</td>\n",
       "      <td>Married</td>\n",
       "      <td>Core staff</td>\n",
       "      <td>MONDAY</td>\n",
       "    </tr>\n",
       "    <tr>\n",
       "      <th>2</th>\n",
       "      <td>Revolving loans</td>\n",
       "      <td>M</td>\n",
       "      <td>Y</td>\n",
       "      <td>Y</td>\n",
       "      <td>Unaccompanied</td>\n",
       "      <td>Working</td>\n",
       "      <td>Secondary / secondary special</td>\n",
       "      <td>Single / not married</td>\n",
       "      <td>Laborers</td>\n",
       "      <td>MONDAY</td>\n",
       "    </tr>\n",
       "  </tbody>\n",
       "</table>\n",
       "</div>"
      ],
      "text/plain": [
       "  NAME_CONTRACT_TYPE GENDER Car House NAME_TYPE_SUITE NAME_INCOME_TYPE  \\\n",
       "0         Cash loans      M   N     Y   Unaccompanied          Working   \n",
       "1         Cash loans      F   N     N          Family    State servant   \n",
       "2    Revolving loans      M   Y     Y   Unaccompanied          Working   \n",
       "\n",
       "             NAME_EDUCATION_TYPE    NAME_FAMILY_STATUS OCCUPATION_TYPE  \\\n",
       "0  Secondary / secondary special  Single / not married        Laborers   \n",
       "1               Higher education               Married      Core staff   \n",
       "2  Secondary / secondary special  Single / not married        Laborers   \n",
       "\n",
       "  APPLICATION_DAY  \n",
       "0       WEDNESDAY  \n",
       "1          MONDAY  \n",
       "2          MONDAY  "
      ]
     },
     "execution_count": 13,
     "metadata": {},
     "output_type": "execute_result"
    }
   ],
   "source": [
    "b.head(3)"
   ]
  },
  {
   "cell_type": "code",
   "execution_count": 14,
   "id": "4401cac1",
   "metadata": {},
   "outputs": [
    {
     "name": "stdout",
     "output_type": "stream",
     "text": [
      "categorical          continuous\n",
      "-------------------  -------------------\n",
      "NAME_CONTRACT_TYPE   SK_ID_CURR\n",
      "GENDER               TARGET\n",
      "Car                  CNT_CHILDREN\n",
      "House                AMT_INCOME_TOTAL\n",
      "NAME_TYPE_SUITE      AMT_CREDIT\n",
      "NAME_INCOME_TYPE     AMT_GOODS_PRICE\n",
      "NAME_EDUCATION_TYPE  DAYS_EMPLOYED\n",
      "NAME_FAMILY_STATUS   MOBILE\n",
      "OCCUPATION_TYPE      WORK_PHONE\n",
      "APPLICATION_DAY      HOME_PHONE\n",
      "                     MOBILE_REACHABLE\n",
      "                     FLAG_EMAIL\n",
      "                     CNT_FAM_MEMBERS\n",
      "                     TOTAL_DOC_SUBMITTED\n"
     ]
    }
   ],
   "source": [
    "a_lst=list(a.columns)\n",
    "b_lst=list(b.columns)\n",
    "\n",
    "table = [b_lst, a_lst]\n",
    "\n",
    "print(tabulate({\"Categorical\":b_lst,\n",
    "                \"continuous\": a_lst}, headers = [\"categorical\", \"continuous\"]))"
   ]
  },
  {
   "cell_type": "markdown",
   "id": "aede4f55",
   "metadata": {},
   "source": [
    "# $$\\;\\;\\;\\; Univariate \\ Analysis \\ of \\ Categorical \\ Variables$$"
   ]
  },
  {
   "cell_type": "markdown",
   "id": "0fe1b03b",
   "metadata": {},
   "source": [
    "### User defined functions for level 1 analysis of categorical columns\n",
    "This function will check for the following:\n",
    "\n",
    "\n",
    "- unique values \n",
    "- mode \n",
    "- sum of all the null values \n",
    "- Total count of missing values"
   ]
  },
  {
   "cell_type": "code",
   "execution_count": 16,
   "id": "fbf5bd4f",
   "metadata": {},
   "outputs": [],
   "source": [
    "def info_of_cat(col): \n",
    "    print(f\"Unique values in {col} are: {df[col].unique()}\") # unique: returns the unique values in the col\n",
    "    print(f\"Mode of {col} is {df[col].mode()[0]}\")  # mode: returns the mode of the column\n",
    "    print(f\"Number of missing values in {col} is {df[col].isnull().sum()}\") # isnull().sum() counts the number of null in dataframe\n",
    "    if df[col].isnull().sum() > 0:  # check if null values are present\n",
    "        print(f\"\\nThere are null values in the {col} column\")"
   ]
  },
  {
   "cell_type": "code",
   "execution_count": 17,
   "id": "64dd6f5e",
   "metadata": {},
   "outputs": [],
   "source": [
    "def info_of_numerical(col):\n",
    "    print(f\"The mean of the {col} is {df[col].mean()}\")\n",
    "    print(f\"The median of the {col} is {df[col].median()}\")\n",
    "    print(f\"The mode of the {col} is {df[col].mode()[0]}\")\n",
    "    print(f\"The standard deviation of the {col} is {df[col].std()}\")\n",
    "    print(f\"Number of missing values in the {col} is {df[col].isnull().sum()}\")"
   ]
  },
  {
   "cell_type": "code",
   "execution_count": 19,
   "id": "d4046120",
   "metadata": {},
   "outputs": [],
   "source": [
    "def info_of_cat(col): \n",
    "    print(f\"Unique values in {col} are: {df[col].unique()}\") # unique: returns the unique values in the col\n",
    "    print(f\"Mode of {col} is {df[col].mode()[0]}\")  # mode: returns the mode of the column\n",
    "    print(f\"Number of missing values in {col} is {df[col].isnull().sum()}\") # isnull().sum() counts the number of null in dataframe\n",
    "    if df[col].isnull().sum() > 0:  # check if null values are present\n",
    "        print(f\"\\nThere are null values in the {col} column\")"
   ]
  },
  {
   "cell_type": "code",
   "execution_count": 20,
   "id": "99ca49e3",
   "metadata": {},
   "outputs": [
    {
     "name": "stdout",
     "output_type": "stream",
     "text": [
      "Unique values in NAME_TYPE_SUITE are: ['Unaccompanied' 'Family' 'Spouse, partner' 'Children' 'Other_A' nan\n",
      " 'Other_B' 'Group of people']\n",
      "Mode of NAME_TYPE_SUITE is Unaccompanied\n",
      "Number of missing values in NAME_TYPE_SUITE is 405\n",
      "\n",
      "There are null values in the NAME_TYPE_SUITE column\n"
     ]
    }
   ],
   "source": [
    "info_of_cat(\"NAME_TYPE_SUITE\") "
   ]
  },
  {
   "cell_type": "code",
   "execution_count": 21,
   "id": "b7c100c9",
   "metadata": {},
   "outputs": [
    {
     "name": "stdout",
     "output_type": "stream",
     "text": [
      "Unaccompanied\n"
     ]
    }
   ],
   "source": [
    "bt_mode = df[\"NAME_TYPE_SUITE\"].mode()[0]\n",
    "print(bt_mode)\n",
    "df[\"NAME_TYPE_SUITE\"].fillna(bt_mode, inplace = True, axis = 0)"
   ]
  },
  {
   "cell_type": "code",
   "execution_count": 22,
   "id": "03056ff1",
   "metadata": {},
   "outputs": [
    {
     "data": {
      "text/plain": [
       "SK_ID_CURR                 0\n",
       "TARGET                     0\n",
       "NAME_CONTRACT_TYPE         0\n",
       "GENDER                     0\n",
       "Car                        0\n",
       "House                      0\n",
       "CNT_CHILDREN               0\n",
       "AMT_INCOME_TOTAL           0\n",
       "AMT_CREDIT                 0\n",
       "AMT_GOODS_PRICE           81\n",
       "NAME_TYPE_SUITE            0\n",
       "NAME_INCOME_TYPE           0\n",
       "NAME_EDUCATION_TYPE        0\n",
       "NAME_FAMILY_STATUS         0\n",
       "DAYS_EMPLOYED              0\n",
       "MOBILE                     0\n",
       "WORK_PHONE                 0\n",
       "HOME_PHONE                 0\n",
       "MOBILE_REACHABLE           0\n",
       "FLAG_EMAIL                 0\n",
       "OCCUPATION_TYPE        31224\n",
       "CNT_FAM_MEMBERS            1\n",
       "APPLICATION_DAY            0\n",
       "TOTAL_DOC_SUBMITTED        0\n",
       "dtype: int64"
      ]
     },
     "execution_count": 22,
     "metadata": {},
     "output_type": "execute_result"
    }
   ],
   "source": [
    "df.isnull().sum()  "
   ]
  },
  {
   "cell_type": "code",
   "execution_count": 23,
   "id": "19fb346e",
   "metadata": {},
   "outputs": [
    {
     "name": "stdout",
     "output_type": "stream",
     "text": [
      "Unique values in OCCUPATION_TYPE are: ['Laborers' 'Core staff' 'Accountants' 'Managers' nan 'Drivers'\n",
      " 'Sales staff' 'Cleaning staff' 'Cooking staff' 'Private service staff'\n",
      " 'Medicine staff' 'Security staff' 'High skill tech staff'\n",
      " 'Waiters/barmen staff' 'Low-skill Laborers' 'Realty agents' 'Secretaries'\n",
      " 'IT staff' 'HR staff']\n",
      "Mode of OCCUPATION_TYPE is Laborers\n",
      "Number of missing values in OCCUPATION_TYPE is 31224\n",
      "\n",
      "There are null values in the OCCUPATION_TYPE column\n"
     ]
    }
   ],
   "source": [
    "info_of_cat(\"OCCUPATION_TYPE\") "
   ]
  },
  {
   "cell_type": "code",
   "execution_count": 24,
   "id": "b06c51d6",
   "metadata": {},
   "outputs": [
    {
     "name": "stdout",
     "output_type": "stream",
     "text": [
      "Laborers\n"
     ]
    }
   ],
   "source": [
    "occupation_mode = df[\"OCCUPATION_TYPE\"].mode()[0]\n",
    "print(occupation_mode)\n",
    "df[\"OCCUPATION_TYPE\"].fillna(occupation_mode, inplace = True, axis = 0)"
   ]
  },
  {
   "cell_type": "code",
   "execution_count": 25,
   "id": "e7a657af",
   "metadata": {},
   "outputs": [
    {
     "data": {
      "text/plain": [
       "SK_ID_CURR              0\n",
       "TARGET                  0\n",
       "NAME_CONTRACT_TYPE      0\n",
       "GENDER                  0\n",
       "Car                     0\n",
       "House                   0\n",
       "CNT_CHILDREN            0\n",
       "AMT_INCOME_TOTAL        0\n",
       "AMT_CREDIT              0\n",
       "AMT_GOODS_PRICE        81\n",
       "NAME_TYPE_SUITE         0\n",
       "NAME_INCOME_TYPE        0\n",
       "NAME_EDUCATION_TYPE     0\n",
       "NAME_FAMILY_STATUS      0\n",
       "DAYS_EMPLOYED           0\n",
       "MOBILE                  0\n",
       "WORK_PHONE              0\n",
       "HOME_PHONE              0\n",
       "MOBILE_REACHABLE        0\n",
       "FLAG_EMAIL              0\n",
       "OCCUPATION_TYPE         0\n",
       "CNT_FAM_MEMBERS         1\n",
       "APPLICATION_DAY         0\n",
       "TOTAL_DOC_SUBMITTED     0\n",
       "dtype: int64"
      ]
     },
     "execution_count": 25,
     "metadata": {},
     "output_type": "execute_result"
    }
   ],
   "source": [
    "df.isnull().sum()  "
   ]
  },
  {
   "cell_type": "code",
   "execution_count": 26,
   "id": "8abd962a",
   "metadata": {},
   "outputs": [
    {
     "name": "stdout",
     "output_type": "stream",
     "text": [
      "The mean of the AMT_GOODS_PRICE is 538345.1489706662\n",
      "The median of the AMT_GOODS_PRICE is 450000.0\n",
      "The mode of the AMT_GOODS_PRICE is 450000.0\n",
      "The standard deviation of the AMT_GOODS_PRICE is 369397.7246421765\n",
      "Number of missing values in the AMT_GOODS_PRICE is 81\n"
     ]
    }
   ],
   "source": [
    "info_of_numerical(\"AMT_GOODS_PRICE\")  #on which the loan is given"
   ]
  },
  {
   "cell_type": "code",
   "execution_count": 27,
   "id": "1b3f6808",
   "metadata": {},
   "outputs": [],
   "source": [
    "median_amt_Goods_price = 450000.0\n",
    "df[\"AMT_GOODS_PRICE\"].fillna(median_amt_Goods_price, axis = 0, inplace = True)"
   ]
  },
  {
   "cell_type": "code",
   "execution_count": 28,
   "id": "c5fb2655",
   "metadata": {},
   "outputs": [
    {
     "data": {
      "text/plain": [
       "SK_ID_CURR             0\n",
       "TARGET                 0\n",
       "NAME_CONTRACT_TYPE     0\n",
       "GENDER                 0\n",
       "Car                    0\n",
       "House                  0\n",
       "CNT_CHILDREN           0\n",
       "AMT_INCOME_TOTAL       0\n",
       "AMT_CREDIT             0\n",
       "AMT_GOODS_PRICE        0\n",
       "NAME_TYPE_SUITE        0\n",
       "NAME_INCOME_TYPE       0\n",
       "NAME_EDUCATION_TYPE    0\n",
       "NAME_FAMILY_STATUS     0\n",
       "DAYS_EMPLOYED          0\n",
       "MOBILE                 0\n",
       "WORK_PHONE             0\n",
       "HOME_PHONE             0\n",
       "MOBILE_REACHABLE       0\n",
       "FLAG_EMAIL             0\n",
       "OCCUPATION_TYPE        0\n",
       "CNT_FAM_MEMBERS        1\n",
       "APPLICATION_DAY        0\n",
       "TOTAL_DOC_SUBMITTED    0\n",
       "dtype: int64"
      ]
     },
     "execution_count": 28,
     "metadata": {},
     "output_type": "execute_result"
    }
   ],
   "source": [
    "df.isnull().sum() "
   ]
  },
  {
   "cell_type": "code",
   "execution_count": 29,
   "id": "36b8ca5f",
   "metadata": {},
   "outputs": [
    {
     "name": "stdout",
     "output_type": "stream",
     "text": [
      "The mean of the CNT_FAM_MEMBERS is 2.1556715567155673\n",
      "The median of the CNT_FAM_MEMBERS is 2.0\n",
      "The mode of the CNT_FAM_MEMBERS is 2.0\n",
      "The standard deviation of the CNT_FAM_MEMBERS is 0.9088966556371371\n",
      "Number of missing values in the CNT_FAM_MEMBERS is 1\n"
     ]
    }
   ],
   "source": [
    "info_of_numerical(\"CNT_FAM_MEMBERS\")"
   ]
  },
  {
   "cell_type": "code",
   "execution_count": 30,
   "id": "bae6e5d1",
   "metadata": {},
   "outputs": [
    {
     "data": {
      "text/plain": [
       "count    99999.000000\n",
       "mean         2.155672\n",
       "std          0.908897\n",
       "min          1.000000\n",
       "25%          2.000000\n",
       "50%          2.000000\n",
       "75%          3.000000\n",
       "max         14.000000\n",
       "Name: CNT_FAM_MEMBERS, dtype: float64"
      ]
     },
     "execution_count": 30,
     "metadata": {},
     "output_type": "execute_result"
    }
   ],
   "source": [
    "df['CNT_FAM_MEMBERS'].describe()"
   ]
  },
  {
   "cell_type": "code",
   "execution_count": 31,
   "id": "63ccdd43",
   "metadata": {},
   "outputs": [],
   "source": [
    "mode_can_fam_members = 2.0\n",
    "df[\"CNT_FAM_MEMBERS\"].fillna(mode_can_fam_members, axis = 0, inplace = True)"
   ]
  },
  {
   "cell_type": "code",
   "execution_count": 32,
   "id": "de430644",
   "metadata": {},
   "outputs": [
    {
     "data": {
      "text/plain": [
       "SK_ID_CURR             0\n",
       "TARGET                 0\n",
       "NAME_CONTRACT_TYPE     0\n",
       "GENDER                 0\n",
       "Car                    0\n",
       "House                  0\n",
       "CNT_CHILDREN           0\n",
       "AMT_INCOME_TOTAL       0\n",
       "AMT_CREDIT             0\n",
       "AMT_GOODS_PRICE        0\n",
       "NAME_TYPE_SUITE        0\n",
       "NAME_INCOME_TYPE       0\n",
       "NAME_EDUCATION_TYPE    0\n",
       "NAME_FAMILY_STATUS     0\n",
       "DAYS_EMPLOYED          0\n",
       "MOBILE                 0\n",
       "WORK_PHONE             0\n",
       "HOME_PHONE             0\n",
       "MOBILE_REACHABLE       0\n",
       "FLAG_EMAIL             0\n",
       "OCCUPATION_TYPE        0\n",
       "CNT_FAM_MEMBERS        0\n",
       "APPLICATION_DAY        0\n",
       "TOTAL_DOC_SUBMITTED    0\n",
       "dtype: int64"
      ]
     },
     "execution_count": 32,
     "metadata": {},
     "output_type": "execute_result"
    }
   ],
   "source": [
    "df.isnull().sum()  # o null value present"
   ]
  },
  {
   "cell_type": "markdown",
   "id": "38399310",
   "metadata": {},
   "source": [
    "### We completed treating null values"
   ]
  },
  {
   "cell_type": "code",
   "execution_count": 33,
   "id": "490df346",
   "metadata": {},
   "outputs": [
    {
     "name": "stdout",
     "output_type": "stream",
     "text": [
      "categorical          continuous\n",
      "-------------------  -------------------\n",
      "NAME_CONTRACT_TYPE   SK_ID_CURR\n",
      "GENDER               TARGET\n",
      "Car                  CNT_CHILDREN\n",
      "House                AMT_INCOME_TOTAL\n",
      "NAME_TYPE_SUITE      AMT_CREDIT\n",
      "NAME_INCOME_TYPE     AMT_GOODS_PRICE\n",
      "NAME_EDUCATION_TYPE  DAYS_EMPLOYED\n",
      "NAME_FAMILY_STATUS   MOBILE\n",
      "OCCUPATION_TYPE      WORK_PHONE\n",
      "APPLICATION_DAY      HOME_PHONE\n",
      "                     MOBILE_REACHABLE\n",
      "                     FLAG_EMAIL\n",
      "                     CNT_FAM_MEMBERS\n",
      "                     TOTAL_DOC_SUBMITTED\n"
     ]
    }
   ],
   "source": [
    "a_lst=list(a.columns)\n",
    "b_lst=list(b.columns)\n",
    "\n",
    "table = [b_lst, a_lst]\n",
    "\n",
    "print(tabulate({\"Categorical\":b_lst,\n",
    "                \"continuous\": a_lst}, headers = [\"categorical\", \"continuous\"]))"
   ]
  },
  {
   "cell_type": "code",
   "execution_count": 34,
   "id": "18d8b42b",
   "metadata": {},
   "outputs": [],
   "source": [
    "df['DAYS_EMPLOYED']= abs(df['DAYS_EMPLOYED'])  # used abs function to make positive value"
   ]
  },
  {
   "cell_type": "markdown",
   "id": "b3fa3faf",
   "metadata": {},
   "source": [
    "# $$\\;\\;\\;\\; Univariate \\ Analysis \\ of \\ Categorical \\ Variables$$"
   ]
  },
  {
   "cell_type": "markdown",
   "id": "dc571fa4",
   "metadata": {},
   "source": [
    "## Level 1 Analysis## Level 1 Analysis"
   ]
  },
  {
   "cell_type": "markdown",
   "id": "d0258bc0",
   "metadata": {},
   "source": [
    "# 1. Analysis of NAME_CONTRACT_TYPE:  \n",
    "LEVEL 1 Analysis of Categorical Data (Univariate Analysis)"
   ]
  },
  {
   "cell_type": "code",
   "execution_count": 35,
   "id": "0f942969",
   "metadata": {},
   "outputs": [
    {
     "data": {
      "text/plain": [
       "count         100000\n",
       "unique             2\n",
       "top       Cash loans\n",
       "freq           90517\n",
       "Name: NAME_CONTRACT_TYPE, dtype: object"
      ]
     },
     "execution_count": 35,
     "metadata": {},
     "output_type": "execute_result"
    }
   ],
   "source": [
    "df['NAME_CONTRACT_TYPE'].describe() "
   ]
  },
  {
   "cell_type": "code",
   "execution_count": 140,
   "id": "005e9608",
   "metadata": {},
   "outputs": [
    {
     "data": {
      "image/png": "[encoded data removed]",
      "text/plain": [
       "<Figure size 720x432 with 2 Axes>"
      ]
     },
     "metadata": {
      "needs_background": "light"
     },
     "output_type": "display_data"
    }
   ],
   "source": [
    "fig, ax = plt.subplots(1, 2, figsize = (10,6))\n",
    "ax[0].set_title(\"Count of NAME_CONTRACT_TYPE\")                  # Set the title of the graph\n",
    "percentage = df[\"NAME_CONTRACT_TYPE\"].value_counts()         # value_counts: returns the count of values in series: return series\n",
    "labels = list(df[\"NAME_CONTRACT_TYPE\"].value_counts().index) # Converting the index of value counts into list\n",
    "\n",
    "sns.countplot(x = df[\"NAME_CONTRACT_TYPE\"], ax = ax[0])\n",
    "plt.pie(percentage,labels = labels, autopct= \"%0.2f%%\")  # autopct: to print the percentage on pie wedge. 2 decimal points used \n",
    "\n",
    "plt.show()"
   ]
  },
  {
   "cell_type": "markdown",
   "id": "6f2c4a31",
   "metadata": {},
   "source": [
    "## Interpretation: We can observe that there is 90.52% of cash loans and 9.48 percentage of revolving loans. "
   ]
  },
  {
   "cell_type": "markdown",
   "id": "b904fd81",
   "metadata": {},
   "source": [
    "# 2. Analysis of  GENDER: \n",
    "LEVEL 1 Analysis of Categorical Data (Univariate Analysis) "
   ]
  },
  {
   "cell_type": "code",
   "execution_count": 37,
   "id": "a9cb527b",
   "metadata": {},
   "outputs": [
    {
     "data": {
      "text/plain": [
       "count     100000\n",
       "unique         3\n",
       "top            F\n",
       "freq       65855\n",
       "Name: GENDER, dtype: object"
      ]
     },
     "execution_count": 37,
     "metadata": {},
     "output_type": "execute_result"
    }
   ],
   "source": [
    "df['GENDER'].describe() "
   ]
  },
  {
   "cell_type": "code",
   "execution_count": 38,
   "id": "c08ce686",
   "metadata": {},
   "outputs": [
    {
     "data": {
      "image/png": "[encoded data removed]",
      "text/plain": [
       "<Figure size 1080x504 with 2 Axes>"
      ]
     },
     "metadata": {
      "needs_background": "light"
     },
     "output_type": "display_data"
    }
   ],
   "source": [
    "fig, ax = plt.subplots(1, 2, figsize = (15, 7))\n",
    "ax[0].set_title(\"Count of GENDER\")                  # Set the title of the graph\n",
    "percentage = df[\"GENDER\"].value_counts()         # value_counts: returns the count of values in series: return series\n",
    "labels = list(df[\"GENDER\"].value_counts().index) # Converting the index of value counts into list\n",
    "\n",
    "sns.countplot(x = df[\"GENDER\"], ax = ax[0])\n",
    "plt.pie(percentage,labels = labels, autopct= \"%0.2f%%\")  # autopct: to print the percentage on pie wedge. 2 decimal points used \n",
    "\n",
    "plt.show()"
   ]
  },
  {
   "cell_type": "code",
   "execution_count": 39,
   "id": "598a331f",
   "metadata": {},
   "outputs": [
    {
     "data": {
      "text/html": [
       "<div>\n",
       "<style scoped>\n",
       "    .dataframe tbody tr th:only-of-type {\n",
       "        vertical-align: middle;\n",
       "    }\n",
       "\n",
       "    .dataframe tbody tr th {\n",
       "        vertical-align: top;\n",
       "    }\n",
       "\n",
       "    .dataframe thead th {\n",
       "        text-align: right;\n",
       "    }\n",
       "</style>\n",
       "<table border=\"1\" class=\"dataframe\">\n",
       "  <thead>\n",
       "    <tr style=\"text-align: right;\">\n",
       "      <th></th>\n",
       "      <th>SK_ID_CURR</th>\n",
       "      <th>TARGET</th>\n",
       "      <th>NAME_CONTRACT_TYPE</th>\n",
       "      <th>GENDER</th>\n",
       "      <th>Car</th>\n",
       "      <th>House</th>\n",
       "      <th>CNT_CHILDREN</th>\n",
       "      <th>AMT_INCOME_TOTAL</th>\n",
       "      <th>AMT_CREDIT</th>\n",
       "      <th>AMT_GOODS_PRICE</th>\n",
       "      <th>...</th>\n",
       "      <th>DAYS_EMPLOYED</th>\n",
       "      <th>MOBILE</th>\n",
       "      <th>WORK_PHONE</th>\n",
       "      <th>HOME_PHONE</th>\n",
       "      <th>MOBILE_REACHABLE</th>\n",
       "      <th>FLAG_EMAIL</th>\n",
       "      <th>OCCUPATION_TYPE</th>\n",
       "      <th>CNT_FAM_MEMBERS</th>\n",
       "      <th>APPLICATION_DAY</th>\n",
       "      <th>TOTAL_DOC_SUBMITTED</th>\n",
       "    </tr>\n",
       "  </thead>\n",
       "  <tbody>\n",
       "    <tr>\n",
       "      <th>0</th>\n",
       "      <td>100002</td>\n",
       "      <td>1</td>\n",
       "      <td>Cash loans</td>\n",
       "      <td>M</td>\n",
       "      <td>N</td>\n",
       "      <td>Y</td>\n",
       "      <td>0</td>\n",
       "      <td>202500.0</td>\n",
       "      <td>406597.5</td>\n",
       "      <td>351000.0</td>\n",
       "      <td>...</td>\n",
       "      <td>637</td>\n",
       "      <td>1</td>\n",
       "      <td>1</td>\n",
       "      <td>0</td>\n",
       "      <td>1</td>\n",
       "      <td>0</td>\n",
       "      <td>Laborers</td>\n",
       "      <td>1.0</td>\n",
       "      <td>WEDNESDAY</td>\n",
       "      <td>1</td>\n",
       "    </tr>\n",
       "    <tr>\n",
       "      <th>1</th>\n",
       "      <td>100003</td>\n",
       "      <td>0</td>\n",
       "      <td>Cash loans</td>\n",
       "      <td>F</td>\n",
       "      <td>N</td>\n",
       "      <td>N</td>\n",
       "      <td>0</td>\n",
       "      <td>270000.0</td>\n",
       "      <td>1293502.5</td>\n",
       "      <td>1129500.0</td>\n",
       "      <td>...</td>\n",
       "      <td>1188</td>\n",
       "      <td>1</td>\n",
       "      <td>1</td>\n",
       "      <td>0</td>\n",
       "      <td>1</td>\n",
       "      <td>0</td>\n",
       "      <td>Core staff</td>\n",
       "      <td>2.0</td>\n",
       "      <td>MONDAY</td>\n",
       "      <td>1</td>\n",
       "    </tr>\n",
       "    <tr>\n",
       "      <th>2</th>\n",
       "      <td>100004</td>\n",
       "      <td>0</td>\n",
       "      <td>Revolving loans</td>\n",
       "      <td>M</td>\n",
       "      <td>Y</td>\n",
       "      <td>Y</td>\n",
       "      <td>0</td>\n",
       "      <td>67500.0</td>\n",
       "      <td>135000.0</td>\n",
       "      <td>135000.0</td>\n",
       "      <td>...</td>\n",
       "      <td>225</td>\n",
       "      <td>1</td>\n",
       "      <td>1</td>\n",
       "      <td>1</td>\n",
       "      <td>1</td>\n",
       "      <td>0</td>\n",
       "      <td>Laborers</td>\n",
       "      <td>1.0</td>\n",
       "      <td>MONDAY</td>\n",
       "      <td>0</td>\n",
       "    </tr>\n",
       "    <tr>\n",
       "      <th>3</th>\n",
       "      <td>100006</td>\n",
       "      <td>0</td>\n",
       "      <td>Cash loans</td>\n",
       "      <td>F</td>\n",
       "      <td>N</td>\n",
       "      <td>Y</td>\n",
       "      <td>0</td>\n",
       "      <td>135000.0</td>\n",
       "      <td>312682.5</td>\n",
       "      <td>297000.0</td>\n",
       "      <td>...</td>\n",
       "      <td>3039</td>\n",
       "      <td>1</td>\n",
       "      <td>1</td>\n",
       "      <td>0</td>\n",
       "      <td>1</td>\n",
       "      <td>0</td>\n",
       "      <td>Laborers</td>\n",
       "      <td>2.0</td>\n",
       "      <td>WEDNESDAY</td>\n",
       "      <td>1</td>\n",
       "    </tr>\n",
       "    <tr>\n",
       "      <th>4</th>\n",
       "      <td>100007</td>\n",
       "      <td>0</td>\n",
       "      <td>Cash loans</td>\n",
       "      <td>M</td>\n",
       "      <td>N</td>\n",
       "      <td>Y</td>\n",
       "      <td>0</td>\n",
       "      <td>121500.0</td>\n",
       "      <td>513000.0</td>\n",
       "      <td>513000.0</td>\n",
       "      <td>...</td>\n",
       "      <td>3038</td>\n",
       "      <td>1</td>\n",
       "      <td>1</td>\n",
       "      <td>0</td>\n",
       "      <td>1</td>\n",
       "      <td>0</td>\n",
       "      <td>Core staff</td>\n",
       "      <td>1.0</td>\n",
       "      <td>THURSDAY</td>\n",
       "      <td>1</td>\n",
       "    </tr>\n",
       "    <tr>\n",
       "      <th>...</th>\n",
       "      <td>...</td>\n",
       "      <td>...</td>\n",
       "      <td>...</td>\n",
       "      <td>...</td>\n",
       "      <td>...</td>\n",
       "      <td>...</td>\n",
       "      <td>...</td>\n",
       "      <td>...</td>\n",
       "      <td>...</td>\n",
       "      <td>...</td>\n",
       "      <td>...</td>\n",
       "      <td>...</td>\n",
       "      <td>...</td>\n",
       "      <td>...</td>\n",
       "      <td>...</td>\n",
       "      <td>...</td>\n",
       "      <td>...</td>\n",
       "      <td>...</td>\n",
       "      <td>...</td>\n",
       "      <td>...</td>\n",
       "      <td>...</td>\n",
       "    </tr>\n",
       "    <tr>\n",
       "      <th>99995</th>\n",
       "      <td>216086</td>\n",
       "      <td>0</td>\n",
       "      <td>Cash loans</td>\n",
       "      <td>F</td>\n",
       "      <td>N</td>\n",
       "      <td>Y</td>\n",
       "      <td>1</td>\n",
       "      <td>157500.0</td>\n",
       "      <td>755190.0</td>\n",
       "      <td>675000.0</td>\n",
       "      <td>...</td>\n",
       "      <td>232</td>\n",
       "      <td>1</td>\n",
       "      <td>1</td>\n",
       "      <td>1</td>\n",
       "      <td>1</td>\n",
       "      <td>0</td>\n",
       "      <td>Sales staff</td>\n",
       "      <td>3.0</td>\n",
       "      <td>MONDAY</td>\n",
       "      <td>1</td>\n",
       "    </tr>\n",
       "    <tr>\n",
       "      <th>99996</th>\n",
       "      <td>216087</td>\n",
       "      <td>0</td>\n",
       "      <td>Cash loans</td>\n",
       "      <td>F</td>\n",
       "      <td>N</td>\n",
       "      <td>Y</td>\n",
       "      <td>1</td>\n",
       "      <td>225000.0</td>\n",
       "      <td>284400.0</td>\n",
       "      <td>225000.0</td>\n",
       "      <td>...</td>\n",
       "      <td>182</td>\n",
       "      <td>1</td>\n",
       "      <td>1</td>\n",
       "      <td>0</td>\n",
       "      <td>1</td>\n",
       "      <td>0</td>\n",
       "      <td>Managers</td>\n",
       "      <td>3.0</td>\n",
       "      <td>TUESDAY</td>\n",
       "      <td>1</td>\n",
       "    </tr>\n",
       "    <tr>\n",
       "      <th>99997</th>\n",
       "      <td>216088</td>\n",
       "      <td>0</td>\n",
       "      <td>Cash loans</td>\n",
       "      <td>F</td>\n",
       "      <td>Y</td>\n",
       "      <td>Y</td>\n",
       "      <td>0</td>\n",
       "      <td>135000.0</td>\n",
       "      <td>1262583.0</td>\n",
       "      <td>1102500.0</td>\n",
       "      <td>...</td>\n",
       "      <td>4805</td>\n",
       "      <td>1</td>\n",
       "      <td>1</td>\n",
       "      <td>0</td>\n",
       "      <td>1</td>\n",
       "      <td>0</td>\n",
       "      <td>Sales staff</td>\n",
       "      <td>2.0</td>\n",
       "      <td>TUESDAY</td>\n",
       "      <td>1</td>\n",
       "    </tr>\n",
       "    <tr>\n",
       "      <th>99998</th>\n",
       "      <td>216089</td>\n",
       "      <td>0</td>\n",
       "      <td>Cash loans</td>\n",
       "      <td>F</td>\n",
       "      <td>Y</td>\n",
       "      <td>N</td>\n",
       "      <td>0</td>\n",
       "      <td>135000.0</td>\n",
       "      <td>225000.0</td>\n",
       "      <td>225000.0</td>\n",
       "      <td>...</td>\n",
       "      <td>340</td>\n",
       "      <td>1</td>\n",
       "      <td>1</td>\n",
       "      <td>0</td>\n",
       "      <td>1</td>\n",
       "      <td>0</td>\n",
       "      <td>Sales staff</td>\n",
       "      <td>2.0</td>\n",
       "      <td>FRIDAY</td>\n",
       "      <td>2</td>\n",
       "    </tr>\n",
       "    <tr>\n",
       "      <th>99999</th>\n",
       "      <td>216090</td>\n",
       "      <td>0</td>\n",
       "      <td>Revolving loans</td>\n",
       "      <td>M</td>\n",
       "      <td>Y</td>\n",
       "      <td>Y</td>\n",
       "      <td>0</td>\n",
       "      <td>202500.0</td>\n",
       "      <td>337500.0</td>\n",
       "      <td>337500.0</td>\n",
       "      <td>...</td>\n",
       "      <td>3230</td>\n",
       "      <td>1</td>\n",
       "      <td>1</td>\n",
       "      <td>1</td>\n",
       "      <td>1</td>\n",
       "      <td>0</td>\n",
       "      <td>Drivers</td>\n",
       "      <td>2.0</td>\n",
       "      <td>SATURDAY</td>\n",
       "      <td>0</td>\n",
       "    </tr>\n",
       "  </tbody>\n",
       "</table>\n",
       "<p>100000 rows × 24 columns</p>\n",
       "</div>"
      ],
      "text/plain": [
       "       SK_ID_CURR  TARGET NAME_CONTRACT_TYPE GENDER Car House  CNT_CHILDREN  \\\n",
       "0          100002       1         Cash loans      M   N     Y             0   \n",
       "1          100003       0         Cash loans      F   N     N             0   \n",
       "2          100004       0    Revolving loans      M   Y     Y             0   \n",
       "3          100006       0         Cash loans      F   N     Y             0   \n",
       "4          100007       0         Cash loans      M   N     Y             0   \n",
       "...           ...     ...                ...    ...  ..   ...           ...   \n",
       "99995      216086       0         Cash loans      F   N     Y             1   \n",
       "99996      216087       0         Cash loans      F   N     Y             1   \n",
       "99997      216088       0         Cash loans      F   Y     Y             0   \n",
       "99998      216089       0         Cash loans      F   Y     N             0   \n",
       "99999      216090       0    Revolving loans      M   Y     Y             0   \n",
       "\n",
       "       AMT_INCOME_TOTAL  AMT_CREDIT  AMT_GOODS_PRICE  ... DAYS_EMPLOYED  \\\n",
       "0              202500.0    406597.5         351000.0  ...           637   \n",
       "1              270000.0   1293502.5        1129500.0  ...          1188   \n",
       "2               67500.0    135000.0         135000.0  ...           225   \n",
       "3              135000.0    312682.5         297000.0  ...          3039   \n",
       "4              121500.0    513000.0         513000.0  ...          3038   \n",
       "...                 ...         ...              ...  ...           ...   \n",
       "99995          157500.0    755190.0         675000.0  ...           232   \n",
       "99996          225000.0    284400.0         225000.0  ...           182   \n",
       "99997          135000.0   1262583.0        1102500.0  ...          4805   \n",
       "99998          135000.0    225000.0         225000.0  ...           340   \n",
       "99999          202500.0    337500.0         337500.0  ...          3230   \n",
       "\n",
       "      MOBILE WORK_PHONE HOME_PHONE  MOBILE_REACHABLE  FLAG_EMAIL  \\\n",
       "0          1          1          0                 1           0   \n",
       "1          1          1          0                 1           0   \n",
       "2          1          1          1                 1           0   \n",
       "3          1          1          0                 1           0   \n",
       "4          1          1          0                 1           0   \n",
       "...      ...        ...        ...               ...         ...   \n",
       "99995      1          1          1                 1           0   \n",
       "99996      1          1          0                 1           0   \n",
       "99997      1          1          0                 1           0   \n",
       "99998      1          1          0                 1           0   \n",
       "99999      1          1          1                 1           0   \n",
       "\n",
       "       OCCUPATION_TYPE  CNT_FAM_MEMBERS  APPLICATION_DAY  TOTAL_DOC_SUBMITTED  \n",
       "0             Laborers              1.0        WEDNESDAY                    1  \n",
       "1           Core staff              2.0           MONDAY                    1  \n",
       "2             Laborers              1.0           MONDAY                    0  \n",
       "3             Laborers              2.0        WEDNESDAY                    1  \n",
       "4           Core staff              1.0         THURSDAY                    1  \n",
       "...                ...              ...              ...                  ...  \n",
       "99995      Sales staff              3.0           MONDAY                    1  \n",
       "99996         Managers              3.0          TUESDAY                    1  \n",
       "99997      Sales staff              2.0          TUESDAY                    1  \n",
       "99998      Sales staff              2.0           FRIDAY                    2  \n",
       "99999          Drivers              2.0         SATURDAY                    0  \n",
       "\n",
       "[100000 rows x 24 columns]"
      ]
     },
     "execution_count": 39,
     "metadata": {},
     "output_type": "execute_result"
    }
   ],
   "source": [
    "df"
   ]
  },
  {
   "cell_type": "code",
   "execution_count": 40,
   "id": "cdaab1f3",
   "metadata": {},
   "outputs": [
    {
     "data": {
      "text/plain": [
       "array(['M', 'F', 'XNA'], dtype=object)"
      ]
     },
     "execution_count": 40,
     "metadata": {},
     "output_type": "execute_result"
    }
   ],
   "source": [
    "df['GENDER'].unique()"
   ]
  },
  {
   "cell_type": "code",
   "execution_count": 41,
   "id": "94bc1e0b",
   "metadata": {},
   "outputs": [
    {
     "data": {
      "text/plain": [
       "F      65855\n",
       "M      34142\n",
       "XNA        3\n",
       "Name: GENDER, dtype: int64"
      ]
     },
     "execution_count": 41,
     "metadata": {},
     "output_type": "execute_result"
    }
   ],
   "source": [
    "df['GENDER'].value_counts()"
   ]
  },
  {
   "cell_type": "code",
   "execution_count": 42,
   "id": "98dc8e9a",
   "metadata": {},
   "outputs": [],
   "source": [
    "df['GENDER']=df['GENDER'].replace(['XNA'],'F')"
   ]
  },
  {
   "cell_type": "code",
   "execution_count": 43,
   "id": "de661c33",
   "metadata": {},
   "outputs": [
    {
     "data": {
      "text/plain": [
       "array(['M', 'F'], dtype=object)"
      ]
     },
     "execution_count": 43,
     "metadata": {},
     "output_type": "execute_result"
    }
   ],
   "source": [
    "df['GENDER'].unique()"
   ]
  },
  {
   "cell_type": "code",
   "execution_count": 44,
   "id": "741a1c71",
   "metadata": {},
   "outputs": [
    {
     "data": {
      "image/png": "[encoded data removed]",
      "text/plain": [
       "<Figure size 1080x504 with 2 Axes>"
      ]
     },
     "metadata": {
      "needs_background": "light"
     },
     "output_type": "display_data"
    }
   ],
   "source": [
    "fig, ax = plt.subplots(1, 2, figsize = (15, 7))\n",
    "ax[0].set_title(\"Count of GENDER\")                  # Set the title of the graph\n",
    "percentage = df[\"GENDER\"].value_counts()         # value_counts: returns the count of values in series: return series\n",
    "labels = list(df[\"GENDER\"].value_counts().index) # Converting the index of value counts into list\n",
    "\n",
    "sns.countplot(x = df[\"GENDER\"], ax = ax[0])\n",
    "plt.pie(percentage,labels = labels, autopct= \"%0.2f%%\")  # autopct: to print the percentage on pie wedge. 2 decimal points used \n",
    "\n",
    "plt.show()"
   ]
  },
  {
   "cell_type": "markdown",
   "id": "642be6d7",
   "metadata": {},
   "source": [
    "## Interpretation: We can observe that gender-wise femeal has maximum count and it acquires 65.86 % and male is 43.14%"
   ]
  },
  {
   "cell_type": "markdown",
   "id": "4ff277c9",
   "metadata": {},
   "source": [
    "# 3. Analysis of  OCCUPATION_TYPE: \n",
    "LEVEL 1 Analysis of Categorical Data (Univariate Analysis) "
   ]
  },
  {
   "cell_type": "code",
   "execution_count": 45,
   "id": "68c53224",
   "metadata": {},
   "outputs": [
    {
     "data": {
      "text/plain": [
       "count       100000\n",
       "unique          18\n",
       "top       Laborers\n",
       "freq         49201\n",
       "Name: OCCUPATION_TYPE, dtype: object"
      ]
     },
     "execution_count": 45,
     "metadata": {},
     "output_type": "execute_result"
    }
   ],
   "source": [
    "df['OCCUPATION_TYPE'].describe() "
   ]
  },
  {
   "cell_type": "code",
   "execution_count": 141,
   "id": "05ec4b20",
   "metadata": {},
   "outputs": [
    {
     "data": {
      "image/png": "[encoded data removed]",
      "text/plain": [
       "<Figure size 720x432 with 1 Axes>"
      ]
     },
     "metadata": {
      "needs_background": "light"
     },
     "output_type": "display_data"
    }
   ],
   "source": [
    "fig,ax=plt.subplots(1,figsize=(10,6));\n",
    "plt.title('OCCUPATION_TYPE vs count ')\n",
    "plt.xticks(rotation=45);\n",
    "sns.countplot(x = df[\"OCCUPATION_TYPE\"]);\n",
    "for bar in ax.patches:                                              # ax.patches returns the rectange object from matplotlib\n",
    "    percentage = f\"{round((bar.get_height() /len(df))*100, 2)}%\"          # first it calculate the bar height and then dividing by the number of rows in data(to calculate percentage) \n",
    "                                                                    # and multiply with 100 to get the percentage and rounding of by 2 numbers.  \n",
    "    x = bar.get_x() + bar.get_width() /2                            # get_x: returns the left corrdinate of the rectange, get_width: returns width of rectagle\n",
    "    y = bar.get_height()                                            # get_height: returns height of rectange\n",
    "    ax.annotate(percentage, (x, y), va = \"bottom\", ha =\"center\" )\n",
    "plt.show()"
   ]
  },
  {
   "cell_type": "markdown",
   "id": "739afac2",
   "metadata": {},
   "source": [
    "## Interpretation: we can observe that the laborers,sales staff ,core staff are the people woh takes the loan maximum time "
   ]
  },
  {
   "cell_type": "markdown",
   "id": "137bd1ad",
   "metadata": {},
   "source": [
    "# 3. Analysis of  AMT_INCOME_TOTAL: \n",
    "LEVEL 1 Analysis of continuous Data (Univariate Analysis) "
   ]
  },
  {
   "cell_type": "code",
   "execution_count": 48,
   "id": "824b06f8",
   "metadata": {},
   "outputs": [
    {
     "data": {
      "text/plain": [
       "count    1.000000e+05\n",
       "mean     1.694261e+05\n",
       "std      3.835007e+05\n",
       "min      2.565000e+04\n",
       "25%      1.125000e+05\n",
       "50%      1.440000e+05\n",
       "75%      2.025000e+05\n",
       "max      1.170000e+08\n",
       "Name: AMT_INCOME_TOTAL, dtype: float64"
      ]
     },
     "execution_count": 48,
     "metadata": {},
     "output_type": "execute_result"
    }
   ],
   "source": [
    "df['AMT_INCOME_TOTAL'].describe() "
   ]
  },
  {
   "cell_type": "code",
   "execution_count": 49,
   "id": "90610664",
   "metadata": {},
   "outputs": [
    {
     "name": "stdout",
     "output_type": "stream",
     "text": [
      "The mean of the AMT_INCOME_TOTAL is 169426.07027325002\n",
      "The median of the AMT_INCOME_TOTAL is 144000.0\n",
      "The mode of the AMT_INCOME_TOTAL is 135000.0\n",
      "The standard deviation of the AMT_INCOME_TOTAL is 383500.74427718896\n",
      "Number of missing values in the AMT_INCOME_TOTAL is 0\n"
     ]
    }
   ],
   "source": [
    "info_of_numerical(\"AMT_INCOME_TOTAL\")"
   ]
  },
  {
   "cell_type": "code",
   "execution_count": 50,
   "id": "b88baf47",
   "metadata": {},
   "outputs": [
    {
     "data": {
      "text/plain": [
       "<pandas.core.groupby.generic.DataFrameGroupBy object at 0x000001E702D48D30>"
      ]
     },
     "execution_count": 50,
     "metadata": {},
     "output_type": "execute_result"
    }
   ],
   "source": [
    "l13=df.groupby(by='AMT_INCOME_TOTAL')\n",
    "l13"
   ]
  },
  {
   "cell_type": "code",
   "execution_count": 51,
   "id": "3167bf03",
   "metadata": {},
   "outputs": [
    {
     "data": {
      "text/plain": [
       "array([202500. , 270000. ,  67500. , ...,  73759.5, 133564.5, 225112.5])"
      ]
     },
     "execution_count": 51,
     "metadata": {},
     "output_type": "execute_result"
    }
   ],
   "source": [
    "df['AMT_INCOME_TOTAL'].unique()"
   ]
  },
  {
   "cell_type": "code",
   "execution_count": 52,
   "id": "5d5a2bce",
   "metadata": {},
   "outputs": [
    {
     "data": {
      "text/plain": [
       "<AxesSubplot:xlabel='AMT_INCOME_TOTAL', ylabel='Count'>"
      ]
     },
     "execution_count": 52,
     "metadata": {},
     "output_type": "execute_result"
    },
    {
     "data": {
      "image/png": "[encoded data removed]",
      "text/plain": [
       "<Figure size 1440x648 with 1 Axes>"
      ]
     },
     "metadata": {
      "needs_background": "light"
     },
     "output_type": "display_data"
    }
   ],
   "source": [
    "plt.figure(figsize=(20,9))\n",
    "sb.histplot(x=df['AMT_INCOME_TOTAL'],kde=True,bins=4)"
   ]
  },
  {
   "cell_type": "code",
   "execution_count": 53,
   "id": "c174195f",
   "metadata": {
    "collapsed": true
   },
   "outputs": [
    {
     "data": {
      "text/html": [
       "<div>\n",
       "<style scoped>\n",
       "    .dataframe tbody tr th:only-of-type {\n",
       "        vertical-align: middle;\n",
       "    }\n",
       "\n",
       "    .dataframe tbody tr th {\n",
       "        vertical-align: top;\n",
       "    }\n",
       "\n",
       "    .dataframe thead th {\n",
       "        text-align: right;\n",
       "    }\n",
       "</style>\n",
       "<table border=\"1\" class=\"dataframe\">\n",
       "  <thead>\n",
       "    <tr style=\"text-align: right;\">\n",
       "      <th></th>\n",
       "      <th>SK_ID_CURR</th>\n",
       "      <th>TARGET</th>\n",
       "      <th>NAME_CONTRACT_TYPE</th>\n",
       "      <th>GENDER</th>\n",
       "      <th>Car</th>\n",
       "      <th>House</th>\n",
       "      <th>CNT_CHILDREN</th>\n",
       "      <th>AMT_INCOME_TOTAL</th>\n",
       "      <th>AMT_CREDIT</th>\n",
       "      <th>AMT_GOODS_PRICE</th>\n",
       "      <th>...</th>\n",
       "      <th>DAYS_EMPLOYED</th>\n",
       "      <th>MOBILE</th>\n",
       "      <th>WORK_PHONE</th>\n",
       "      <th>HOME_PHONE</th>\n",
       "      <th>MOBILE_REACHABLE</th>\n",
       "      <th>FLAG_EMAIL</th>\n",
       "      <th>OCCUPATION_TYPE</th>\n",
       "      <th>CNT_FAM_MEMBERS</th>\n",
       "      <th>APPLICATION_DAY</th>\n",
       "      <th>TOTAL_DOC_SUBMITTED</th>\n",
       "    </tr>\n",
       "  </thead>\n",
       "  <tbody>\n",
       "    <tr>\n",
       "      <th>1504</th>\n",
       "      <td>101769</td>\n",
       "      <td>0</td>\n",
       "      <td>Revolving loans</td>\n",
       "      <td>M</td>\n",
       "      <td>Y</td>\n",
       "      <td>Y</td>\n",
       "      <td>0</td>\n",
       "      <td>1080000.0</td>\n",
       "      <td>180000.0</td>\n",
       "      <td>180000.0</td>\n",
       "      <td>...</td>\n",
       "      <td>5536</td>\n",
       "      <td>1</td>\n",
       "      <td>1</td>\n",
       "      <td>0</td>\n",
       "      <td>1</td>\n",
       "      <td>0</td>\n",
       "      <td>Laborers</td>\n",
       "      <td>2.0</td>\n",
       "      <td>FRIDAY</td>\n",
       "      <td>0</td>\n",
       "    </tr>\n",
       "    <tr>\n",
       "      <th>1723</th>\n",
       "      <td>102015</td>\n",
       "      <td>0</td>\n",
       "      <td>Cash loans</td>\n",
       "      <td>F</td>\n",
       "      <td>N</td>\n",
       "      <td>Y</td>\n",
       "      <td>0</td>\n",
       "      <td>1935000.0</td>\n",
       "      <td>269550.0</td>\n",
       "      <td>225000.0</td>\n",
       "      <td>...</td>\n",
       "      <td>365243</td>\n",
       "      <td>1</td>\n",
       "      <td>0</td>\n",
       "      <td>0</td>\n",
       "      <td>1</td>\n",
       "      <td>0</td>\n",
       "      <td>Laborers</td>\n",
       "      <td>2.0</td>\n",
       "      <td>MONDAY</td>\n",
       "      <td>1</td>\n",
       "    </tr>\n",
       "    <tr>\n",
       "      <th>3371</th>\n",
       "      <td>103938</td>\n",
       "      <td>0</td>\n",
       "      <td>Cash loans</td>\n",
       "      <td>F</td>\n",
       "      <td>N</td>\n",
       "      <td>N</td>\n",
       "      <td>1</td>\n",
       "      <td>1350000.0</td>\n",
       "      <td>2410380.0</td>\n",
       "      <td>2250000.0</td>\n",
       "      <td>...</td>\n",
       "      <td>843</td>\n",
       "      <td>1</td>\n",
       "      <td>1</td>\n",
       "      <td>0</td>\n",
       "      <td>1</td>\n",
       "      <td>0</td>\n",
       "      <td>Managers</td>\n",
       "      <td>3.0</td>\n",
       "      <td>SUNDAY</td>\n",
       "      <td>2</td>\n",
       "    </tr>\n",
       "    <tr>\n",
       "      <th>4603</th>\n",
       "      <td>105384</td>\n",
       "      <td>0</td>\n",
       "      <td>Revolving loans</td>\n",
       "      <td>F</td>\n",
       "      <td>Y</td>\n",
       "      <td>Y</td>\n",
       "      <td>0</td>\n",
       "      <td>1350000.0</td>\n",
       "      <td>405000.0</td>\n",
       "      <td>405000.0</td>\n",
       "      <td>...</td>\n",
       "      <td>4768</td>\n",
       "      <td>1</td>\n",
       "      <td>1</td>\n",
       "      <td>0</td>\n",
       "      <td>1</td>\n",
       "      <td>0</td>\n",
       "      <td>Managers</td>\n",
       "      <td>2.0</td>\n",
       "      <td>TUESDAY</td>\n",
       "      <td>0</td>\n",
       "    </tr>\n",
       "    <tr>\n",
       "      <th>5673</th>\n",
       "      <td>106637</td>\n",
       "      <td>0</td>\n",
       "      <td>Cash loans</td>\n",
       "      <td>M</td>\n",
       "      <td>Y</td>\n",
       "      <td>Y</td>\n",
       "      <td>3</td>\n",
       "      <td>967500.0</td>\n",
       "      <td>450000.0</td>\n",
       "      <td>450000.0</td>\n",
       "      <td>...</td>\n",
       "      <td>546</td>\n",
       "      <td>1</td>\n",
       "      <td>1</td>\n",
       "      <td>0</td>\n",
       "      <td>1</td>\n",
       "      <td>0</td>\n",
       "      <td>Managers</td>\n",
       "      <td>5.0</td>\n",
       "      <td>MONDAY</td>\n",
       "      <td>1</td>\n",
       "    </tr>\n",
       "    <tr>\n",
       "      <th>...</th>\n",
       "      <td>...</td>\n",
       "      <td>...</td>\n",
       "      <td>...</td>\n",
       "      <td>...</td>\n",
       "      <td>...</td>\n",
       "      <td>...</td>\n",
       "      <td>...</td>\n",
       "      <td>...</td>\n",
       "      <td>...</td>\n",
       "      <td>...</td>\n",
       "      <td>...</td>\n",
       "      <td>...</td>\n",
       "      <td>...</td>\n",
       "      <td>...</td>\n",
       "      <td>...</td>\n",
       "      <td>...</td>\n",
       "      <td>...</td>\n",
       "      <td>...</td>\n",
       "      <td>...</td>\n",
       "      <td>...</td>\n",
       "      <td>...</td>\n",
       "    </tr>\n",
       "    <tr>\n",
       "      <th>95940</th>\n",
       "      <td>211386</td>\n",
       "      <td>0</td>\n",
       "      <td>Cash loans</td>\n",
       "      <td>F</td>\n",
       "      <td>Y</td>\n",
       "      <td>Y</td>\n",
       "      <td>2</td>\n",
       "      <td>1125000.0</td>\n",
       "      <td>900000.0</td>\n",
       "      <td>900000.0</td>\n",
       "      <td>...</td>\n",
       "      <td>2653</td>\n",
       "      <td>1</td>\n",
       "      <td>1</td>\n",
       "      <td>1</td>\n",
       "      <td>1</td>\n",
       "      <td>0</td>\n",
       "      <td>Managers</td>\n",
       "      <td>4.0</td>\n",
       "      <td>TUESDAY</td>\n",
       "      <td>1</td>\n",
       "    </tr>\n",
       "    <tr>\n",
       "      <th>96710</th>\n",
       "      <td>212267</td>\n",
       "      <td>0</td>\n",
       "      <td>Cash loans</td>\n",
       "      <td>M</td>\n",
       "      <td>Y</td>\n",
       "      <td>N</td>\n",
       "      <td>2</td>\n",
       "      <td>1125000.0</td>\n",
       "      <td>2330190.0</td>\n",
       "      <td>2250000.0</td>\n",
       "      <td>...</td>\n",
       "      <td>6083</td>\n",
       "      <td>1</td>\n",
       "      <td>1</td>\n",
       "      <td>0</td>\n",
       "      <td>1</td>\n",
       "      <td>0</td>\n",
       "      <td>Managers</td>\n",
       "      <td>4.0</td>\n",
       "      <td>MONDAY</td>\n",
       "      <td>2</td>\n",
       "    </tr>\n",
       "    <tr>\n",
       "      <th>97152</th>\n",
       "      <td>212783</td>\n",
       "      <td>0</td>\n",
       "      <td>Cash loans</td>\n",
       "      <td>M</td>\n",
       "      <td>N</td>\n",
       "      <td>N</td>\n",
       "      <td>0</td>\n",
       "      <td>990000.0</td>\n",
       "      <td>900000.0</td>\n",
       "      <td>900000.0</td>\n",
       "      <td>...</td>\n",
       "      <td>4314</td>\n",
       "      <td>1</td>\n",
       "      <td>1</td>\n",
       "      <td>0</td>\n",
       "      <td>1</td>\n",
       "      <td>0</td>\n",
       "      <td>Managers</td>\n",
       "      <td>2.0</td>\n",
       "      <td>SATURDAY</td>\n",
       "      <td>1</td>\n",
       "    </tr>\n",
       "    <tr>\n",
       "      <th>97169</th>\n",
       "      <td>212804</td>\n",
       "      <td>0</td>\n",
       "      <td>Cash loans</td>\n",
       "      <td>M</td>\n",
       "      <td>Y</td>\n",
       "      <td>N</td>\n",
       "      <td>0</td>\n",
       "      <td>1575000.0</td>\n",
       "      <td>276277.5</td>\n",
       "      <td>238500.0</td>\n",
       "      <td>...</td>\n",
       "      <td>365243</td>\n",
       "      <td>1</td>\n",
       "      <td>0</td>\n",
       "      <td>0</td>\n",
       "      <td>1</td>\n",
       "      <td>0</td>\n",
       "      <td>Laborers</td>\n",
       "      <td>2.0</td>\n",
       "      <td>TUESDAY</td>\n",
       "      <td>1</td>\n",
       "    </tr>\n",
       "    <tr>\n",
       "      <th>98243</th>\n",
       "      <td>214063</td>\n",
       "      <td>0</td>\n",
       "      <td>Cash loans</td>\n",
       "      <td>F</td>\n",
       "      <td>Y</td>\n",
       "      <td>Y</td>\n",
       "      <td>2</td>\n",
       "      <td>2214117.0</td>\n",
       "      <td>1350000.0</td>\n",
       "      <td>1350000.0</td>\n",
       "      <td>...</td>\n",
       "      <td>388</td>\n",
       "      <td>1</td>\n",
       "      <td>1</td>\n",
       "      <td>1</td>\n",
       "      <td>1</td>\n",
       "      <td>1</td>\n",
       "      <td>Accountants</td>\n",
       "      <td>4.0</td>\n",
       "      <td>FRIDAY</td>\n",
       "      <td>1</td>\n",
       "    </tr>\n",
       "  </tbody>\n",
       "</table>\n",
       "<p>89 rows × 24 columns</p>\n",
       "</div>"
      ],
      "text/plain": [
       "       SK_ID_CURR  TARGET NAME_CONTRACT_TYPE GENDER Car House  CNT_CHILDREN  \\\n",
       "1504       101769       0    Revolving loans      M   Y     Y             0   \n",
       "1723       102015       0         Cash loans      F   N     Y             0   \n",
       "3371       103938       0         Cash loans      F   N     N             1   \n",
       "4603       105384       0    Revolving loans      F   Y     Y             0   \n",
       "5673       106637       0         Cash loans      M   Y     Y             3   \n",
       "...           ...     ...                ...    ...  ..   ...           ...   \n",
       "95940      211386       0         Cash loans      F   Y     Y             2   \n",
       "96710      212267       0         Cash loans      M   Y     N             2   \n",
       "97152      212783       0         Cash loans      M   N     N             0   \n",
       "97169      212804       0         Cash loans      M   Y     N             0   \n",
       "98243      214063       0         Cash loans      F   Y     Y             2   \n",
       "\n",
       "       AMT_INCOME_TOTAL  AMT_CREDIT  AMT_GOODS_PRICE  ... DAYS_EMPLOYED  \\\n",
       "1504          1080000.0    180000.0         180000.0  ...          5536   \n",
       "1723          1935000.0    269550.0         225000.0  ...        365243   \n",
       "3371          1350000.0   2410380.0        2250000.0  ...           843   \n",
       "4603          1350000.0    405000.0         405000.0  ...          4768   \n",
       "5673           967500.0    450000.0         450000.0  ...           546   \n",
       "...                 ...         ...              ...  ...           ...   \n",
       "95940         1125000.0    900000.0         900000.0  ...          2653   \n",
       "96710         1125000.0   2330190.0        2250000.0  ...          6083   \n",
       "97152          990000.0    900000.0         900000.0  ...          4314   \n",
       "97169         1575000.0    276277.5         238500.0  ...        365243   \n",
       "98243         2214117.0   1350000.0        1350000.0  ...           388   \n",
       "\n",
       "      MOBILE WORK_PHONE HOME_PHONE  MOBILE_REACHABLE  FLAG_EMAIL  \\\n",
       "1504       1          1          0                 1           0   \n",
       "1723       1          0          0                 1           0   \n",
       "3371       1          1          0                 1           0   \n",
       "4603       1          1          0                 1           0   \n",
       "5673       1          1          0                 1           0   \n",
       "...      ...        ...        ...               ...         ...   \n",
       "95940      1          1          1                 1           0   \n",
       "96710      1          1          0                 1           0   \n",
       "97152      1          1          0                 1           0   \n",
       "97169      1          0          0                 1           0   \n",
       "98243      1          1          1                 1           1   \n",
       "\n",
       "       OCCUPATION_TYPE  CNT_FAM_MEMBERS  APPLICATION_DAY  TOTAL_DOC_SUBMITTED  \n",
       "1504          Laborers              2.0           FRIDAY                    0  \n",
       "1723          Laborers              2.0           MONDAY                    1  \n",
       "3371          Managers              3.0           SUNDAY                    2  \n",
       "4603          Managers              2.0          TUESDAY                    0  \n",
       "5673          Managers              5.0           MONDAY                    1  \n",
       "...                ...              ...              ...                  ...  \n",
       "95940         Managers              4.0          TUESDAY                    1  \n",
       "96710         Managers              4.0           MONDAY                    2  \n",
       "97152         Managers              2.0         SATURDAY                    1  \n",
       "97169         Laborers              2.0          TUESDAY                    1  \n",
       "98243      Accountants              4.0           FRIDAY                    1  \n",
       "\n",
       "[89 rows x 24 columns]"
      ]
     },
     "execution_count": 53,
     "metadata": {},
     "output_type": "execute_result"
    }
   ],
   "source": [
    "df[(df.AMT_INCOME_TOTAL>900000)]  # as there are only 89 value out of 100000"
   ]
  },
  {
   "cell_type": "code",
   "execution_count": 55,
   "id": "0626149e",
   "metadata": {},
   "outputs": [],
   "source": [
    "mean = int(df.AMT_INCOME_TOTAL.mean())\n",
    "# accessing the data lesser than 20\n",
    "x = df[df[\"AMT_INCOME_TOTAL\"] > 900000].index\n",
    "df.loc[x,\"AMT_INCOME_TOTAL\"] = mean  "
   ]
  },
  {
   "cell_type": "code",
   "execution_count": 68,
   "id": "425eca20",
   "metadata": {},
   "outputs": [
    {
     "data": {
      "text/plain": [
       "<AxesSubplot:title={'center':'AMT_INCOME_TOTAL vs count '}, xlabel='AMT_INCOME_TOTAL', ylabel='Count'>"
      ]
     },
     "execution_count": 68,
     "metadata": {},
     "output_type": "execute_result"
    },
    {
     "data": {
      "image/png": "[encoded data removed]",
      "text/plain": [
       "<Figure size 1440x648 with 1 Axes>"
      ]
     },
     "metadata": {
      "needs_background": "light"
     },
     "output_type": "display_data"
    }
   ],
   "source": [
    "plt.figure(figsize=(20,9))\n",
    "plt.title('AMT_INCOME_TOTAL vs count ')\n",
    "sb.histplot(x=df['AMT_INCOME_TOTAL'],kde=True,bins=10)"
   ]
  },
  {
   "cell_type": "code",
   "execution_count": 58,
   "id": "ad770dd3",
   "metadata": {},
   "outputs": [
    {
     "data": {
      "image/png": "[encoded data removed]",
      "text/plain": [
       "<Figure size 1440x504 with 2 Axes>"
      ]
     },
     "metadata": {
      "needs_background": "light"
     },
     "output_type": "display_data"
    }
   ],
   "source": [
    "# Distribution of Customer_Age\n",
    "fig, ax = plt.subplots(1, 2, figsize= (20, 7))               # Creating the space for the 2 images, first argument in subplots is rows and second is columns and the figure size\n",
    "sns.histplot(x = df[\"AMT_INCOME_TOTAL\"], ax =ax[1], color = \"m\") # ax[1] means image will plot at the second space\n",
    "sns.boxplot(x = df[\"AMT_INCOME_TOTAL\"], ax = ax[0], color = \"g\") # ax[0] means image will plot at the second space\n",
    "plt.show()"
   ]
  },
  {
   "cell_type": "markdown",
   "id": "f87ff3e6",
   "metadata": {},
   "source": [
    "## Interpretation: here we can say the data is right screwed and the main value lies upto 202500"
   ]
  },
  {
   "cell_type": "markdown",
   "id": "6cc14ef1",
   "metadata": {},
   "source": [
    "# 4. Analysis of  TARGET: \n",
    "LEVEL 1 Analysis of continuous Data (Univariate Analysis) "
   ]
  },
  {
   "cell_type": "code",
   "execution_count": 61,
   "id": "aebb46a7",
   "metadata": {},
   "outputs": [
    {
     "data": {
      "image/png": "[encoded data removed]",
      "text/plain": [
       "<Figure size 1440x504 with 2 Axes>"
      ]
     },
     "metadata": {
      "needs_background": "light"
     },
     "output_type": "display_data"
    }
   ],
   "source": [
    "# Distribution of Customer_Age\n",
    "fig, ax = plt.subplots(1, 2, figsize= (20, 7))               # Creating the space for the 2 images, first argument in subplots is rows and second is columns and the figure size\n",
    "sns.histplot(x = df[\"TARGET\"], ax =ax[1], color = \"m\") # ax[1] means image will plot at the second space\n",
    "sns.boxplot(x = df[\"TARGET\"], ax = ax[0], color = \"g\") # ax[0] means image will plot at the second space\n",
    "plt.show()"
   ]
  },
  {
   "cell_type": "code",
   "execution_count": 70,
   "id": "49406f4e",
   "metadata": {},
   "outputs": [
    {
     "data": {
      "image/png": "[encoded data removed]",
      "text/plain": [
       "<Figure size 1800x504 with 1 Axes>"
      ]
     },
     "metadata": {},
     "output_type": "display_data"
    }
   ],
   "source": [
    "fig, ax = plt.subplots( figsize= (25, 7)) \n",
    "plt.title('TARGET vs % of defaulters_data ')\n",
    "labels = list(df[\"TARGET\"].value_counts().index)\n",
    "percentage = df[\"TARGET\"].value_counts()         # value_counts: returns the count of values in series: return series\n",
    "labels = list(df[\"TARGET\"].value_counts().index)\n",
    "plt.pie(percentage,labels = labels, autopct= \"%0.2f%%\") ; # autopct: to print the percentage on pie wedge. 2 decimal points used \n"
   ]
  },
  {
   "cell_type": "markdown",
   "id": "3c57c9c3",
   "metadata": {},
   "source": [
    "## Interpretation: we can observe that there on only 8.09% defaulters Client and 91.91% are NON defaulters Client."
   ]
  },
  {
   "cell_type": "markdown",
   "id": "1453a928",
   "metadata": {},
   "source": [
    "# 5. Analysis of  DAYS_EMPLOYED: \n",
    "LEVEL 1 Analysis of continuous Data (Univariate Analysis) "
   ]
  },
  {
   "cell_type": "code",
   "execution_count": 73,
   "id": "31a31ff9",
   "metadata": {},
   "outputs": [
    {
     "data": {
      "image/png": "[encoded data removed]",
      "text/plain": [
       "<Figure size 1440x504 with 2 Axes>"
      ]
     },
     "metadata": {
      "needs_background": "light"
     },
     "output_type": "display_data"
    }
   ],
   "source": [
    "# Distribution of Customer_Age\n",
    "fig, ax = plt.subplots(1, 2, figsize= (20, 7))               # Creating the space for the 2 images, first argument in subplots is rows and second is columns and the figure size\n",
    "sns.histplot(x = df[\"DAYS_EMPLOYED\"], ax =ax[1], color = \"m\") # ax[1] means image will plot at the second space\n",
    "sns.boxplot(x = df[\"DAYS_EMPLOYED\"], ax = ax[0], color = \"g\") # ax[0] means image will plot at the second space\n",
    "plt.show()"
   ]
  },
  {
   "cell_type": "code",
   "execution_count": 75,
   "id": "52a6ba27",
   "metadata": {},
   "outputs": [
    {
     "data": {
      "text/html": [
       "<div>\n",
       "<style scoped>\n",
       "    .dataframe tbody tr th:only-of-type {\n",
       "        vertical-align: middle;\n",
       "    }\n",
       "\n",
       "    .dataframe tbody tr th {\n",
       "        vertical-align: top;\n",
       "    }\n",
       "\n",
       "    .dataframe thead th {\n",
       "        text-align: right;\n",
       "    }\n",
       "</style>\n",
       "<table border=\"1\" class=\"dataframe\">\n",
       "  <thead>\n",
       "    <tr style=\"text-align: right;\">\n",
       "      <th></th>\n",
       "      <th>SK_ID_CURR</th>\n",
       "      <th>TARGET</th>\n",
       "      <th>NAME_CONTRACT_TYPE</th>\n",
       "      <th>GENDER</th>\n",
       "      <th>Car</th>\n",
       "      <th>House</th>\n",
       "      <th>CNT_CHILDREN</th>\n",
       "      <th>AMT_INCOME_TOTAL</th>\n",
       "      <th>AMT_CREDIT</th>\n",
       "      <th>AMT_GOODS_PRICE</th>\n",
       "      <th>...</th>\n",
       "      <th>DAYS_EMPLOYED</th>\n",
       "      <th>MOBILE</th>\n",
       "      <th>WORK_PHONE</th>\n",
       "      <th>HOME_PHONE</th>\n",
       "      <th>MOBILE_REACHABLE</th>\n",
       "      <th>FLAG_EMAIL</th>\n",
       "      <th>OCCUPATION_TYPE</th>\n",
       "      <th>CNT_FAM_MEMBERS</th>\n",
       "      <th>APPLICATION_DAY</th>\n",
       "      <th>TOTAL_DOC_SUBMITTED</th>\n",
       "    </tr>\n",
       "  </thead>\n",
       "  <tbody>\n",
       "    <tr>\n",
       "      <th>8</th>\n",
       "      <td>100011</td>\n",
       "      <td>0</td>\n",
       "      <td>Cash loans</td>\n",
       "      <td>F</td>\n",
       "      <td>N</td>\n",
       "      <td>Y</td>\n",
       "      <td>0</td>\n",
       "      <td>112500.000</td>\n",
       "      <td>1019610.0</td>\n",
       "      <td>913500.0</td>\n",
       "      <td>...</td>\n",
       "      <td>365243</td>\n",
       "      <td>1</td>\n",
       "      <td>0</td>\n",
       "      <td>0</td>\n",
       "      <td>1</td>\n",
       "      <td>0</td>\n",
       "      <td>Laborers</td>\n",
       "      <td>2.0</td>\n",
       "      <td>WEDNESDAY</td>\n",
       "      <td>1</td>\n",
       "    </tr>\n",
       "    <tr>\n",
       "      <th>11</th>\n",
       "      <td>100015</td>\n",
       "      <td>0</td>\n",
       "      <td>Cash loans</td>\n",
       "      <td>F</td>\n",
       "      <td>N</td>\n",
       "      <td>Y</td>\n",
       "      <td>0</td>\n",
       "      <td>38419.155</td>\n",
       "      <td>148365.0</td>\n",
       "      <td>135000.0</td>\n",
       "      <td>...</td>\n",
       "      <td>365243</td>\n",
       "      <td>1</td>\n",
       "      <td>0</td>\n",
       "      <td>0</td>\n",
       "      <td>1</td>\n",
       "      <td>0</td>\n",
       "      <td>Laborers</td>\n",
       "      <td>2.0</td>\n",
       "      <td>FRIDAY</td>\n",
       "      <td>1</td>\n",
       "    </tr>\n",
       "    <tr>\n",
       "      <th>23</th>\n",
       "      <td>100027</td>\n",
       "      <td>0</td>\n",
       "      <td>Cash loans</td>\n",
       "      <td>F</td>\n",
       "      <td>N</td>\n",
       "      <td>Y</td>\n",
       "      <td>0</td>\n",
       "      <td>83250.000</td>\n",
       "      <td>239850.0</td>\n",
       "      <td>225000.0</td>\n",
       "      <td>...</td>\n",
       "      <td>365243</td>\n",
       "      <td>1</td>\n",
       "      <td>0</td>\n",
       "      <td>0</td>\n",
       "      <td>1</td>\n",
       "      <td>0</td>\n",
       "      <td>Laborers</td>\n",
       "      <td>2.0</td>\n",
       "      <td>FRIDAY</td>\n",
       "      <td>1</td>\n",
       "    </tr>\n",
       "    <tr>\n",
       "      <th>38</th>\n",
       "      <td>100045</td>\n",
       "      <td>0</td>\n",
       "      <td>Cash loans</td>\n",
       "      <td>F</td>\n",
       "      <td>N</td>\n",
       "      <td>Y</td>\n",
       "      <td>0</td>\n",
       "      <td>99000.000</td>\n",
       "      <td>247275.0</td>\n",
       "      <td>225000.0</td>\n",
       "      <td>...</td>\n",
       "      <td>365243</td>\n",
       "      <td>1</td>\n",
       "      <td>0</td>\n",
       "      <td>0</td>\n",
       "      <td>1</td>\n",
       "      <td>0</td>\n",
       "      <td>Laborers</td>\n",
       "      <td>2.0</td>\n",
       "      <td>FRIDAY</td>\n",
       "      <td>1</td>\n",
       "    </tr>\n",
       "    <tr>\n",
       "      <th>43</th>\n",
       "      <td>100050</td>\n",
       "      <td>0</td>\n",
       "      <td>Cash loans</td>\n",
       "      <td>F</td>\n",
       "      <td>N</td>\n",
       "      <td>Y</td>\n",
       "      <td>0</td>\n",
       "      <td>108000.000</td>\n",
       "      <td>746280.0</td>\n",
       "      <td>675000.0</td>\n",
       "      <td>...</td>\n",
       "      <td>365243</td>\n",
       "      <td>1</td>\n",
       "      <td>0</td>\n",
       "      <td>0</td>\n",
       "      <td>1</td>\n",
       "      <td>0</td>\n",
       "      <td>Laborers</td>\n",
       "      <td>1.0</td>\n",
       "      <td>WEDNESDAY</td>\n",
       "      <td>1</td>\n",
       "    </tr>\n",
       "    <tr>\n",
       "      <th>...</th>\n",
       "      <td>...</td>\n",
       "      <td>...</td>\n",
       "      <td>...</td>\n",
       "      <td>...</td>\n",
       "      <td>...</td>\n",
       "      <td>...</td>\n",
       "      <td>...</td>\n",
       "      <td>...</td>\n",
       "      <td>...</td>\n",
       "      <td>...</td>\n",
       "      <td>...</td>\n",
       "      <td>...</td>\n",
       "      <td>...</td>\n",
       "      <td>...</td>\n",
       "      <td>...</td>\n",
       "      <td>...</td>\n",
       "      <td>...</td>\n",
       "      <td>...</td>\n",
       "      <td>...</td>\n",
       "      <td>...</td>\n",
       "      <td>...</td>\n",
       "    </tr>\n",
       "    <tr>\n",
       "      <th>99950</th>\n",
       "      <td>216037</td>\n",
       "      <td>0</td>\n",
       "      <td>Cash loans</td>\n",
       "      <td>F</td>\n",
       "      <td>N</td>\n",
       "      <td>N</td>\n",
       "      <td>0</td>\n",
       "      <td>103500.000</td>\n",
       "      <td>540000.0</td>\n",
       "      <td>540000.0</td>\n",
       "      <td>...</td>\n",
       "      <td>365243</td>\n",
       "      <td>1</td>\n",
       "      <td>0</td>\n",
       "      <td>0</td>\n",
       "      <td>1</td>\n",
       "      <td>0</td>\n",
       "      <td>Laborers</td>\n",
       "      <td>1.0</td>\n",
       "      <td>TUESDAY</td>\n",
       "      <td>1</td>\n",
       "    </tr>\n",
       "    <tr>\n",
       "      <th>99963</th>\n",
       "      <td>216053</td>\n",
       "      <td>0</td>\n",
       "      <td>Cash loans</td>\n",
       "      <td>F</td>\n",
       "      <td>Y</td>\n",
       "      <td>Y</td>\n",
       "      <td>0</td>\n",
       "      <td>67500.000</td>\n",
       "      <td>544491.0</td>\n",
       "      <td>454500.0</td>\n",
       "      <td>...</td>\n",
       "      <td>365243</td>\n",
       "      <td>1</td>\n",
       "      <td>0</td>\n",
       "      <td>0</td>\n",
       "      <td>1</td>\n",
       "      <td>0</td>\n",
       "      <td>Laborers</td>\n",
       "      <td>2.0</td>\n",
       "      <td>FRIDAY</td>\n",
       "      <td>1</td>\n",
       "    </tr>\n",
       "    <tr>\n",
       "      <th>99976</th>\n",
       "      <td>216067</td>\n",
       "      <td>0</td>\n",
       "      <td>Cash loans</td>\n",
       "      <td>M</td>\n",
       "      <td>Y</td>\n",
       "      <td>Y</td>\n",
       "      <td>0</td>\n",
       "      <td>180000.000</td>\n",
       "      <td>1002870.0</td>\n",
       "      <td>922500.0</td>\n",
       "      <td>...</td>\n",
       "      <td>365243</td>\n",
       "      <td>1</td>\n",
       "      <td>0</td>\n",
       "      <td>0</td>\n",
       "      <td>1</td>\n",
       "      <td>0</td>\n",
       "      <td>Laborers</td>\n",
       "      <td>2.0</td>\n",
       "      <td>MONDAY</td>\n",
       "      <td>1</td>\n",
       "    </tr>\n",
       "    <tr>\n",
       "      <th>99981</th>\n",
       "      <td>216072</td>\n",
       "      <td>0</td>\n",
       "      <td>Cash loans</td>\n",
       "      <td>F</td>\n",
       "      <td>N</td>\n",
       "      <td>Y</td>\n",
       "      <td>0</td>\n",
       "      <td>35100.000</td>\n",
       "      <td>294322.5</td>\n",
       "      <td>243000.0</td>\n",
       "      <td>...</td>\n",
       "      <td>365243</td>\n",
       "      <td>1</td>\n",
       "      <td>0</td>\n",
       "      <td>0</td>\n",
       "      <td>1</td>\n",
       "      <td>0</td>\n",
       "      <td>Laborers</td>\n",
       "      <td>2.0</td>\n",
       "      <td>SUNDAY</td>\n",
       "      <td>1</td>\n",
       "    </tr>\n",
       "    <tr>\n",
       "      <th>99982</th>\n",
       "      <td>216073</td>\n",
       "      <td>0</td>\n",
       "      <td>Cash loans</td>\n",
       "      <td>F</td>\n",
       "      <td>N</td>\n",
       "      <td>Y</td>\n",
       "      <td>0</td>\n",
       "      <td>108000.000</td>\n",
       "      <td>432661.5</td>\n",
       "      <td>373500.0</td>\n",
       "      <td>...</td>\n",
       "      <td>365243</td>\n",
       "      <td>1</td>\n",
       "      <td>0</td>\n",
       "      <td>0</td>\n",
       "      <td>1</td>\n",
       "      <td>0</td>\n",
       "      <td>Laborers</td>\n",
       "      <td>2.0</td>\n",
       "      <td>WEDNESDAY</td>\n",
       "      <td>1</td>\n",
       "    </tr>\n",
       "  </tbody>\n",
       "</table>\n",
       "<p>17865 rows × 24 columns</p>\n",
       "</div>"
      ],
      "text/plain": [
       "       SK_ID_CURR  TARGET NAME_CONTRACT_TYPE GENDER Car House  CNT_CHILDREN  \\\n",
       "8          100011       0         Cash loans      F   N     Y             0   \n",
       "11         100015       0         Cash loans      F   N     Y             0   \n",
       "23         100027       0         Cash loans      F   N     Y             0   \n",
       "38         100045       0         Cash loans      F   N     Y             0   \n",
       "43         100050       0         Cash loans      F   N     Y             0   \n",
       "...           ...     ...                ...    ...  ..   ...           ...   \n",
       "99950      216037       0         Cash loans      F   N     N             0   \n",
       "99963      216053       0         Cash loans      F   Y     Y             0   \n",
       "99976      216067       0         Cash loans      M   Y     Y             0   \n",
       "99981      216072       0         Cash loans      F   N     Y             0   \n",
       "99982      216073       0         Cash loans      F   N     Y             0   \n",
       "\n",
       "       AMT_INCOME_TOTAL  AMT_CREDIT  AMT_GOODS_PRICE  ... DAYS_EMPLOYED  \\\n",
       "8            112500.000   1019610.0         913500.0  ...        365243   \n",
       "11            38419.155    148365.0         135000.0  ...        365243   \n",
       "23            83250.000    239850.0         225000.0  ...        365243   \n",
       "38            99000.000    247275.0         225000.0  ...        365243   \n",
       "43           108000.000    746280.0         675000.0  ...        365243   \n",
       "...                 ...         ...              ...  ...           ...   \n",
       "99950        103500.000    540000.0         540000.0  ...        365243   \n",
       "99963         67500.000    544491.0         454500.0  ...        365243   \n",
       "99976        180000.000   1002870.0         922500.0  ...        365243   \n",
       "99981         35100.000    294322.5         243000.0  ...        365243   \n",
       "99982        108000.000    432661.5         373500.0  ...        365243   \n",
       "\n",
       "      MOBILE WORK_PHONE HOME_PHONE  MOBILE_REACHABLE  FLAG_EMAIL  \\\n",
       "8          1          0          0                 1           0   \n",
       "11         1          0          0                 1           0   \n",
       "23         1          0          0                 1           0   \n",
       "38         1          0          0                 1           0   \n",
       "43         1          0          0                 1           0   \n",
       "...      ...        ...        ...               ...         ...   \n",
       "99950      1          0          0                 1           0   \n",
       "99963      1          0          0                 1           0   \n",
       "99976      1          0          0                 1           0   \n",
       "99981      1          0          0                 1           0   \n",
       "99982      1          0          0                 1           0   \n",
       "\n",
       "       OCCUPATION_TYPE  CNT_FAM_MEMBERS  APPLICATION_DAY  TOTAL_DOC_SUBMITTED  \n",
       "8             Laborers              2.0        WEDNESDAY                    1  \n",
       "11            Laborers              2.0           FRIDAY                    1  \n",
       "23            Laborers              2.0           FRIDAY                    1  \n",
       "38            Laborers              2.0           FRIDAY                    1  \n",
       "43            Laborers              1.0        WEDNESDAY                    1  \n",
       "...                ...              ...              ...                  ...  \n",
       "99950         Laborers              1.0          TUESDAY                    1  \n",
       "99963         Laborers              2.0           FRIDAY                    1  \n",
       "99976         Laborers              2.0           MONDAY                    1  \n",
       "99981         Laborers              2.0           SUNDAY                    1  \n",
       "99982         Laborers              2.0        WEDNESDAY                    1  \n",
       "\n",
       "[17865 rows x 24 columns]"
      ]
     },
     "execution_count": 75,
     "metadata": {},
     "output_type": "execute_result"
    }
   ],
   "source": [
    "df[(df.DAYS_EMPLOYED>50000)]  # we can see that there is 365243 which is outlier rest all value is under 50000"
   ]
  },
  {
   "cell_type": "code",
   "execution_count": 76,
   "id": "42f4c19b",
   "metadata": {},
   "outputs": [],
   "source": [
    "mean = int(df.DAYS_EMPLOYED.mean())\n",
    "# accessing the data lesser than 20\n",
    "x = df[df[\"DAYS_EMPLOYED\"] > 50000].index\n",
    "df.loc[x,\"DAYS_EMPLOYED\"] = mean  "
   ]
  },
  {
   "cell_type": "code",
   "execution_count": 77,
   "id": "1cf2b888",
   "metadata": {},
   "outputs": [
    {
     "data": {
      "image/png": "[encoded data removed]",
      "text/plain": [
       "<Figure size 1440x504 with 2 Axes>"
      ]
     },
     "metadata": {
      "needs_background": "light"
     },
     "output_type": "display_data"
    }
   ],
   "source": [
    "# Distribution of Customer_Age\n",
    "fig, ax = plt.subplots(1, 2, figsize= (20, 7))               # Creating the space for the 2 images, first argument in subplots is rows and second is columns and the figure size\n",
    "sns.histplot(x = df[\"DAYS_EMPLOYED\"], ax =ax[1], color = \"m\") # ax[1] means image will plot at the second space\n",
    "sns.boxplot(x = df[\"DAYS_EMPLOYED\"], ax = ax[0], color = \"g\") # ax[0] means image will plot at the second space\n",
    "plt.show()"
   ]
  },
  {
   "cell_type": "code",
   "execution_count": 142,
   "id": "2a7cd6d8",
   "metadata": {},
   "outputs": [
    {
     "data": {
      "text/plain": [
       "<AxesSubplot:title={'center':'DAYS_EMPLOYED Distribution '}, xlabel='DAYS_EMPLOYED', ylabel='Count'>"
      ]
     },
     "execution_count": 142,
     "metadata": {},
     "output_type": "execute_result"
    },
    {
     "data": {
      "image/png": "[encoded data removed]",
      "text/plain": [
       "<Figure size 720x432 with 1 Axes>"
      ]
     },
     "metadata": {
      "needs_background": "light"
     },
     "output_type": "display_data"
    }
   ],
   "source": [
    "plt.figure(figsize=(10,6))\n",
    "plt.title('DAYS_EMPLOYED Distribution ')\n",
    "sb.histplot(x=df['DAYS_EMPLOYED'],kde=True,bins=50)"
   ]
  },
  {
   "cell_type": "markdown",
   "id": "f2a200db",
   "metadata": {},
   "source": [
    "## Interpretation: we can observe that the client taking  a loan are averagely newly employed person."
   ]
  },
  {
   "cell_type": "markdown",
   "id": "8fa9a8d9",
   "metadata": {},
   "source": [
    "Level 2 Analysis (Getting closer to the BIG QUESTION: Bank Data Analysis) \n",
    "---------------------------------------------------------------------------------------------------\n",
    "\n",
    "How can this column make way to further analysis to answer the big question?\n",
    "\n",
    "What other columns could be clubbed with Employee churn to ask further questions?\n",
    "\n",
    "The below is the variables list of columns/features in the given data. "
   ]
  },
  {
   "cell_type": "markdown",
   "id": "21bbfd7f",
   "metadata": {},
   "source": [
    "## Bivariante Analysis of Categorical columns with respect to Target variable"
   ]
  },
  {
   "cell_type": "markdown",
   "id": "7fcdf3d7",
   "metadata": {},
   "source": [
    "#### CAT-CAT ANALYSIS  (relationship between categorical data)"
   ]
  },
  {
   "cell_type": "markdown",
   "id": "f20ca4fd",
   "metadata": {},
   "source": [
    "## Q1.Show Distributionn of male and female on on defaulters and non defaulters?"
   ]
  },
  {
   "cell_type": "code",
   "execution_count": 95,
   "id": "8beb010a",
   "metadata": {},
   "outputs": [
    {
     "data": {
      "text/html": [
       "<div>\n",
       "<style scoped>\n",
       "    .dataframe tbody tr th:only-of-type {\n",
       "        vertical-align: middle;\n",
       "    }\n",
       "\n",
       "    .dataframe tbody tr th {\n",
       "        vertical-align: top;\n",
       "    }\n",
       "\n",
       "    .dataframe thead th {\n",
       "        text-align: right;\n",
       "    }\n",
       "</style>\n",
       "<table border=\"1\" class=\"dataframe\">\n",
       "  <thead>\n",
       "    <tr style=\"text-align: right;\">\n",
       "      <th></th>\n",
       "      <th>SK_ID_CURR</th>\n",
       "      <th>TARGET</th>\n",
       "      <th>NAME_CONTRACT_TYPE</th>\n",
       "      <th>GENDER</th>\n",
       "      <th>Car</th>\n",
       "      <th>House</th>\n",
       "      <th>CNT_CHILDREN</th>\n",
       "      <th>AMT_INCOME_TOTAL</th>\n",
       "      <th>AMT_CREDIT</th>\n",
       "      <th>AMT_GOODS_PRICE</th>\n",
       "      <th>...</th>\n",
       "      <th>DAYS_EMPLOYED</th>\n",
       "      <th>MOBILE</th>\n",
       "      <th>WORK_PHONE</th>\n",
       "      <th>HOME_PHONE</th>\n",
       "      <th>MOBILE_REACHABLE</th>\n",
       "      <th>FLAG_EMAIL</th>\n",
       "      <th>OCCUPATION_TYPE</th>\n",
       "      <th>CNT_FAM_MEMBERS</th>\n",
       "      <th>APPLICATION_DAY</th>\n",
       "      <th>TOTAL_DOC_SUBMITTED</th>\n",
       "    </tr>\n",
       "  </thead>\n",
       "  <tbody>\n",
       "    <tr>\n",
       "      <th>0</th>\n",
       "      <td>100002</td>\n",
       "      <td>1</td>\n",
       "      <td>Cash loans</td>\n",
       "      <td>M</td>\n",
       "      <td>N</td>\n",
       "      <td>Y</td>\n",
       "      <td>0</td>\n",
       "      <td>202500.0</td>\n",
       "      <td>406597.5</td>\n",
       "      <td>351000.0</td>\n",
       "      <td>...</td>\n",
       "      <td>637</td>\n",
       "      <td>1</td>\n",
       "      <td>1</td>\n",
       "      <td>0</td>\n",
       "      <td>1</td>\n",
       "      <td>0</td>\n",
       "      <td>Laborers</td>\n",
       "      <td>1.0</td>\n",
       "      <td>WEDNESDAY</td>\n",
       "      <td>1</td>\n",
       "    </tr>\n",
       "    <tr>\n",
       "      <th>26</th>\n",
       "      <td>100031</td>\n",
       "      <td>1</td>\n",
       "      <td>Cash loans</td>\n",
       "      <td>F</td>\n",
       "      <td>N</td>\n",
       "      <td>Y</td>\n",
       "      <td>0</td>\n",
       "      <td>112500.0</td>\n",
       "      <td>979992.0</td>\n",
       "      <td>702000.0</td>\n",
       "      <td>...</td>\n",
       "      <td>2628</td>\n",
       "      <td>1</td>\n",
       "      <td>1</td>\n",
       "      <td>0</td>\n",
       "      <td>1</td>\n",
       "      <td>0</td>\n",
       "      <td>Cooking staff</td>\n",
       "      <td>1.0</td>\n",
       "      <td>MONDAY</td>\n",
       "      <td>2</td>\n",
       "    </tr>\n",
       "    <tr>\n",
       "      <th>40</th>\n",
       "      <td>100047</td>\n",
       "      <td>1</td>\n",
       "      <td>Cash loans</td>\n",
       "      <td>M</td>\n",
       "      <td>N</td>\n",
       "      <td>Y</td>\n",
       "      <td>0</td>\n",
       "      <td>202500.0</td>\n",
       "      <td>1193580.0</td>\n",
       "      <td>855000.0</td>\n",
       "      <td>...</td>\n",
       "      <td>1262</td>\n",
       "      <td>1</td>\n",
       "      <td>1</td>\n",
       "      <td>0</td>\n",
       "      <td>1</td>\n",
       "      <td>0</td>\n",
       "      <td>Laborers</td>\n",
       "      <td>2.0</td>\n",
       "      <td>TUESDAY</td>\n",
       "      <td>1</td>\n",
       "    </tr>\n",
       "    <tr>\n",
       "      <th>42</th>\n",
       "      <td>100049</td>\n",
       "      <td>1</td>\n",
       "      <td>Cash loans</td>\n",
       "      <td>F</td>\n",
       "      <td>N</td>\n",
       "      <td>N</td>\n",
       "      <td>0</td>\n",
       "      <td>135000.0</td>\n",
       "      <td>288873.0</td>\n",
       "      <td>238500.0</td>\n",
       "      <td>...</td>\n",
       "      <td>3597</td>\n",
       "      <td>1</td>\n",
       "      <td>1</td>\n",
       "      <td>1</td>\n",
       "      <td>1</td>\n",
       "      <td>0</td>\n",
       "      <td>Sales staff</td>\n",
       "      <td>2.0</td>\n",
       "      <td>THURSDAY</td>\n",
       "      <td>1</td>\n",
       "    </tr>\n",
       "    <tr>\n",
       "      <th>81</th>\n",
       "      <td>100096</td>\n",
       "      <td>1</td>\n",
       "      <td>Cash loans</td>\n",
       "      <td>F</td>\n",
       "      <td>N</td>\n",
       "      <td>Y</td>\n",
       "      <td>0</td>\n",
       "      <td>81000.0</td>\n",
       "      <td>252000.0</td>\n",
       "      <td>252000.0</td>\n",
       "      <td>...</td>\n",
       "      <td>67209</td>\n",
       "      <td>1</td>\n",
       "      <td>0</td>\n",
       "      <td>0</td>\n",
       "      <td>1</td>\n",
       "      <td>0</td>\n",
       "      <td>Laborers</td>\n",
       "      <td>2.0</td>\n",
       "      <td>THURSDAY</td>\n",
       "      <td>1</td>\n",
       "    </tr>\n",
       "    <tr>\n",
       "      <th>...</th>\n",
       "      <td>...</td>\n",
       "      <td>...</td>\n",
       "      <td>...</td>\n",
       "      <td>...</td>\n",
       "      <td>...</td>\n",
       "      <td>...</td>\n",
       "      <td>...</td>\n",
       "      <td>...</td>\n",
       "      <td>...</td>\n",
       "      <td>...</td>\n",
       "      <td>...</td>\n",
       "      <td>...</td>\n",
       "      <td>...</td>\n",
       "      <td>...</td>\n",
       "      <td>...</td>\n",
       "      <td>...</td>\n",
       "      <td>...</td>\n",
       "      <td>...</td>\n",
       "      <td>...</td>\n",
       "      <td>...</td>\n",
       "      <td>...</td>\n",
       "    </tr>\n",
       "    <tr>\n",
       "      <th>99924</th>\n",
       "      <td>216008</td>\n",
       "      <td>1</td>\n",
       "      <td>Cash loans</td>\n",
       "      <td>M</td>\n",
       "      <td>N</td>\n",
       "      <td>Y</td>\n",
       "      <td>0</td>\n",
       "      <td>247500.0</td>\n",
       "      <td>509400.0</td>\n",
       "      <td>450000.0</td>\n",
       "      <td>...</td>\n",
       "      <td>586</td>\n",
       "      <td>1</td>\n",
       "      <td>1</td>\n",
       "      <td>0</td>\n",
       "      <td>1</td>\n",
       "      <td>0</td>\n",
       "      <td>Laborers</td>\n",
       "      <td>1.0</td>\n",
       "      <td>FRIDAY</td>\n",
       "      <td>1</td>\n",
       "    </tr>\n",
       "    <tr>\n",
       "      <th>99932</th>\n",
       "      <td>216017</td>\n",
       "      <td>1</td>\n",
       "      <td>Cash loans</td>\n",
       "      <td>F</td>\n",
       "      <td>N</td>\n",
       "      <td>N</td>\n",
       "      <td>0</td>\n",
       "      <td>180000.0</td>\n",
       "      <td>485640.0</td>\n",
       "      <td>450000.0</td>\n",
       "      <td>...</td>\n",
       "      <td>767</td>\n",
       "      <td>1</td>\n",
       "      <td>1</td>\n",
       "      <td>1</td>\n",
       "      <td>1</td>\n",
       "      <td>0</td>\n",
       "      <td>Sales staff</td>\n",
       "      <td>2.0</td>\n",
       "      <td>FRIDAY</td>\n",
       "      <td>1</td>\n",
       "    </tr>\n",
       "    <tr>\n",
       "      <th>99935</th>\n",
       "      <td>216021</td>\n",
       "      <td>1</td>\n",
       "      <td>Cash loans</td>\n",
       "      <td>F</td>\n",
       "      <td>N</td>\n",
       "      <td>Y</td>\n",
       "      <td>0</td>\n",
       "      <td>243000.0</td>\n",
       "      <td>495882.0</td>\n",
       "      <td>405000.0</td>\n",
       "      <td>...</td>\n",
       "      <td>1662</td>\n",
       "      <td>1</td>\n",
       "      <td>1</td>\n",
       "      <td>0</td>\n",
       "      <td>1</td>\n",
       "      <td>0</td>\n",
       "      <td>Laborers</td>\n",
       "      <td>2.0</td>\n",
       "      <td>SATURDAY</td>\n",
       "      <td>1</td>\n",
       "    </tr>\n",
       "    <tr>\n",
       "      <th>99965</th>\n",
       "      <td>216055</td>\n",
       "      <td>1</td>\n",
       "      <td>Cash loans</td>\n",
       "      <td>F</td>\n",
       "      <td>Y</td>\n",
       "      <td>Y</td>\n",
       "      <td>0</td>\n",
       "      <td>225000.0</td>\n",
       "      <td>809136.0</td>\n",
       "      <td>643500.0</td>\n",
       "      <td>...</td>\n",
       "      <td>1669</td>\n",
       "      <td>1</td>\n",
       "      <td>1</td>\n",
       "      <td>0</td>\n",
       "      <td>1</td>\n",
       "      <td>0</td>\n",
       "      <td>Laborers</td>\n",
       "      <td>2.0</td>\n",
       "      <td>SATURDAY</td>\n",
       "      <td>1</td>\n",
       "    </tr>\n",
       "    <tr>\n",
       "      <th>99967</th>\n",
       "      <td>216057</td>\n",
       "      <td>1</td>\n",
       "      <td>Cash loans</td>\n",
       "      <td>M</td>\n",
       "      <td>N</td>\n",
       "      <td>N</td>\n",
       "      <td>0</td>\n",
       "      <td>54000.0</td>\n",
       "      <td>360000.0</td>\n",
       "      <td>360000.0</td>\n",
       "      <td>...</td>\n",
       "      <td>3190</td>\n",
       "      <td>1</td>\n",
       "      <td>1</td>\n",
       "      <td>1</td>\n",
       "      <td>1</td>\n",
       "      <td>0</td>\n",
       "      <td>Core staff</td>\n",
       "      <td>1.0</td>\n",
       "      <td>THURSDAY</td>\n",
       "      <td>1</td>\n",
       "    </tr>\n",
       "  </tbody>\n",
       "</table>\n",
       "<p>8093 rows × 24 columns</p>\n",
       "</div>"
      ],
      "text/plain": [
       "       SK_ID_CURR  TARGET NAME_CONTRACT_TYPE GENDER Car House  CNT_CHILDREN  \\\n",
       "0          100002       1         Cash loans      M   N     Y             0   \n",
       "26         100031       1         Cash loans      F   N     Y             0   \n",
       "40         100047       1         Cash loans      M   N     Y             0   \n",
       "42         100049       1         Cash loans      F   N     N             0   \n",
       "81         100096       1         Cash loans      F   N     Y             0   \n",
       "...           ...     ...                ...    ...  ..   ...           ...   \n",
       "99924      216008       1         Cash loans      M   N     Y             0   \n",
       "99932      216017       1         Cash loans      F   N     N             0   \n",
       "99935      216021       1         Cash loans      F   N     Y             0   \n",
       "99965      216055       1         Cash loans      F   Y     Y             0   \n",
       "99967      216057       1         Cash loans      M   N     N             0   \n",
       "\n",
       "       AMT_INCOME_TOTAL  AMT_CREDIT  AMT_GOODS_PRICE  ... DAYS_EMPLOYED  \\\n",
       "0              202500.0    406597.5         351000.0  ...           637   \n",
       "26             112500.0    979992.0         702000.0  ...          2628   \n",
       "40             202500.0   1193580.0         855000.0  ...          1262   \n",
       "42             135000.0    288873.0         238500.0  ...          3597   \n",
       "81              81000.0    252000.0         252000.0  ...         67209   \n",
       "...                 ...         ...              ...  ...           ...   \n",
       "99924          247500.0    509400.0         450000.0  ...           586   \n",
       "99932          180000.0    485640.0         450000.0  ...           767   \n",
       "99935          243000.0    495882.0         405000.0  ...          1662   \n",
       "99965          225000.0    809136.0         643500.0  ...          1669   \n",
       "99967           54000.0    360000.0         360000.0  ...          3190   \n",
       "\n",
       "      MOBILE WORK_PHONE HOME_PHONE  MOBILE_REACHABLE  FLAG_EMAIL  \\\n",
       "0          1          1          0                 1           0   \n",
       "26         1          1          0                 1           0   \n",
       "40         1          1          0                 1           0   \n",
       "42         1          1          1                 1           0   \n",
       "81         1          0          0                 1           0   \n",
       "...      ...        ...        ...               ...         ...   \n",
       "99924      1          1          0                 1           0   \n",
       "99932      1          1          1                 1           0   \n",
       "99935      1          1          0                 1           0   \n",
       "99965      1          1          0                 1           0   \n",
       "99967      1          1          1                 1           0   \n",
       "\n",
       "       OCCUPATION_TYPE  CNT_FAM_MEMBERS  APPLICATION_DAY  TOTAL_DOC_SUBMITTED  \n",
       "0             Laborers              1.0        WEDNESDAY                    1  \n",
       "26       Cooking staff              1.0           MONDAY                    2  \n",
       "40            Laborers              2.0          TUESDAY                    1  \n",
       "42         Sales staff              2.0         THURSDAY                    1  \n",
       "81            Laborers              2.0         THURSDAY                    1  \n",
       "...                ...              ...              ...                  ...  \n",
       "99924         Laborers              1.0           FRIDAY                    1  \n",
       "99932      Sales staff              2.0           FRIDAY                    1  \n",
       "99935         Laborers              2.0         SATURDAY                    1  \n",
       "99965         Laborers              2.0         SATURDAY                    1  \n",
       "99967       Core staff              1.0         THURSDAY                    1  \n",
       "\n",
       "[8093 rows x 24 columns]"
      ]
     },
     "execution_count": 95,
     "metadata": {},
     "output_type": "execute_result"
    }
   ],
   "source": [
    "defaulters_data =df[(df.TARGET == 1)]\n",
    "defaulters_data"
   ]
  },
  {
   "cell_type": "code",
   "execution_count": 86,
   "id": "9ea23440",
   "metadata": {},
   "outputs": [
    {
     "data": {
      "text/html": [
       "<div>\n",
       "<style scoped>\n",
       "    .dataframe tbody tr th:only-of-type {\n",
       "        vertical-align: middle;\n",
       "    }\n",
       "\n",
       "    .dataframe tbody tr th {\n",
       "        vertical-align: top;\n",
       "    }\n",
       "\n",
       "    .dataframe thead th {\n",
       "        text-align: right;\n",
       "    }\n",
       "</style>\n",
       "<table border=\"1\" class=\"dataframe\">\n",
       "  <thead>\n",
       "    <tr style=\"text-align: right;\">\n",
       "      <th></th>\n",
       "      <th>SK_ID_CURR</th>\n",
       "      <th>TARGET</th>\n",
       "      <th>NAME_CONTRACT_TYPE</th>\n",
       "      <th>GENDER</th>\n",
       "      <th>Car</th>\n",
       "      <th>House</th>\n",
       "      <th>CNT_CHILDREN</th>\n",
       "      <th>AMT_INCOME_TOTAL</th>\n",
       "      <th>AMT_CREDIT</th>\n",
       "      <th>AMT_GOODS_PRICE</th>\n",
       "      <th>...</th>\n",
       "      <th>DAYS_EMPLOYED</th>\n",
       "      <th>MOBILE</th>\n",
       "      <th>WORK_PHONE</th>\n",
       "      <th>HOME_PHONE</th>\n",
       "      <th>MOBILE_REACHABLE</th>\n",
       "      <th>FLAG_EMAIL</th>\n",
       "      <th>OCCUPATION_TYPE</th>\n",
       "      <th>CNT_FAM_MEMBERS</th>\n",
       "      <th>APPLICATION_DAY</th>\n",
       "      <th>TOTAL_DOC_SUBMITTED</th>\n",
       "    </tr>\n",
       "  </thead>\n",
       "  <tbody>\n",
       "    <tr>\n",
       "      <th>1</th>\n",
       "      <td>100003</td>\n",
       "      <td>0</td>\n",
       "      <td>Cash loans</td>\n",
       "      <td>F</td>\n",
       "      <td>N</td>\n",
       "      <td>N</td>\n",
       "      <td>0</td>\n",
       "      <td>270000.0</td>\n",
       "      <td>1293502.5</td>\n",
       "      <td>1129500.0</td>\n",
       "      <td>...</td>\n",
       "      <td>1188</td>\n",
       "      <td>1</td>\n",
       "      <td>1</td>\n",
       "      <td>0</td>\n",
       "      <td>1</td>\n",
       "      <td>0</td>\n",
       "      <td>Core staff</td>\n",
       "      <td>2.0</td>\n",
       "      <td>MONDAY</td>\n",
       "      <td>1</td>\n",
       "    </tr>\n",
       "    <tr>\n",
       "      <th>2</th>\n",
       "      <td>100004</td>\n",
       "      <td>0</td>\n",
       "      <td>Revolving loans</td>\n",
       "      <td>M</td>\n",
       "      <td>Y</td>\n",
       "      <td>Y</td>\n",
       "      <td>0</td>\n",
       "      <td>67500.0</td>\n",
       "      <td>135000.0</td>\n",
       "      <td>135000.0</td>\n",
       "      <td>...</td>\n",
       "      <td>225</td>\n",
       "      <td>1</td>\n",
       "      <td>1</td>\n",
       "      <td>1</td>\n",
       "      <td>1</td>\n",
       "      <td>0</td>\n",
       "      <td>Laborers</td>\n",
       "      <td>1.0</td>\n",
       "      <td>MONDAY</td>\n",
       "      <td>0</td>\n",
       "    </tr>\n",
       "    <tr>\n",
       "      <th>3</th>\n",
       "      <td>100006</td>\n",
       "      <td>0</td>\n",
       "      <td>Cash loans</td>\n",
       "      <td>F</td>\n",
       "      <td>N</td>\n",
       "      <td>Y</td>\n",
       "      <td>0</td>\n",
       "      <td>135000.0</td>\n",
       "      <td>312682.5</td>\n",
       "      <td>297000.0</td>\n",
       "      <td>...</td>\n",
       "      <td>3039</td>\n",
       "      <td>1</td>\n",
       "      <td>1</td>\n",
       "      <td>0</td>\n",
       "      <td>1</td>\n",
       "      <td>0</td>\n",
       "      <td>Laborers</td>\n",
       "      <td>2.0</td>\n",
       "      <td>WEDNESDAY</td>\n",
       "      <td>1</td>\n",
       "    </tr>\n",
       "    <tr>\n",
       "      <th>4</th>\n",
       "      <td>100007</td>\n",
       "      <td>0</td>\n",
       "      <td>Cash loans</td>\n",
       "      <td>M</td>\n",
       "      <td>N</td>\n",
       "      <td>Y</td>\n",
       "      <td>0</td>\n",
       "      <td>121500.0</td>\n",
       "      <td>513000.0</td>\n",
       "      <td>513000.0</td>\n",
       "      <td>...</td>\n",
       "      <td>3038</td>\n",
       "      <td>1</td>\n",
       "      <td>1</td>\n",
       "      <td>0</td>\n",
       "      <td>1</td>\n",
       "      <td>0</td>\n",
       "      <td>Core staff</td>\n",
       "      <td>1.0</td>\n",
       "      <td>THURSDAY</td>\n",
       "      <td>1</td>\n",
       "    </tr>\n",
       "    <tr>\n",
       "      <th>5</th>\n",
       "      <td>100008</td>\n",
       "      <td>0</td>\n",
       "      <td>Cash loans</td>\n",
       "      <td>M</td>\n",
       "      <td>N</td>\n",
       "      <td>Y</td>\n",
       "      <td>0</td>\n",
       "      <td>99000.0</td>\n",
       "      <td>490495.5</td>\n",
       "      <td>454500.0</td>\n",
       "      <td>...</td>\n",
       "      <td>1588</td>\n",
       "      <td>1</td>\n",
       "      <td>1</td>\n",
       "      <td>1</td>\n",
       "      <td>1</td>\n",
       "      <td>0</td>\n",
       "      <td>Laborers</td>\n",
       "      <td>2.0</td>\n",
       "      <td>WEDNESDAY</td>\n",
       "      <td>1</td>\n",
       "    </tr>\n",
       "    <tr>\n",
       "      <th>...</th>\n",
       "      <td>...</td>\n",
       "      <td>...</td>\n",
       "      <td>...</td>\n",
       "      <td>...</td>\n",
       "      <td>...</td>\n",
       "      <td>...</td>\n",
       "      <td>...</td>\n",
       "      <td>...</td>\n",
       "      <td>...</td>\n",
       "      <td>...</td>\n",
       "      <td>...</td>\n",
       "      <td>...</td>\n",
       "      <td>...</td>\n",
       "      <td>...</td>\n",
       "      <td>...</td>\n",
       "      <td>...</td>\n",
       "      <td>...</td>\n",
       "      <td>...</td>\n",
       "      <td>...</td>\n",
       "      <td>...</td>\n",
       "      <td>...</td>\n",
       "    </tr>\n",
       "    <tr>\n",
       "      <th>99995</th>\n",
       "      <td>216086</td>\n",
       "      <td>0</td>\n",
       "      <td>Cash loans</td>\n",
       "      <td>F</td>\n",
       "      <td>N</td>\n",
       "      <td>Y</td>\n",
       "      <td>1</td>\n",
       "      <td>157500.0</td>\n",
       "      <td>755190.0</td>\n",
       "      <td>675000.0</td>\n",
       "      <td>...</td>\n",
       "      <td>232</td>\n",
       "      <td>1</td>\n",
       "      <td>1</td>\n",
       "      <td>1</td>\n",
       "      <td>1</td>\n",
       "      <td>0</td>\n",
       "      <td>Sales staff</td>\n",
       "      <td>3.0</td>\n",
       "      <td>MONDAY</td>\n",
       "      <td>1</td>\n",
       "    </tr>\n",
       "    <tr>\n",
       "      <th>99996</th>\n",
       "      <td>216087</td>\n",
       "      <td>0</td>\n",
       "      <td>Cash loans</td>\n",
       "      <td>F</td>\n",
       "      <td>N</td>\n",
       "      <td>Y</td>\n",
       "      <td>1</td>\n",
       "      <td>225000.0</td>\n",
       "      <td>284400.0</td>\n",
       "      <td>225000.0</td>\n",
       "      <td>...</td>\n",
       "      <td>182</td>\n",
       "      <td>1</td>\n",
       "      <td>1</td>\n",
       "      <td>0</td>\n",
       "      <td>1</td>\n",
       "      <td>0</td>\n",
       "      <td>Managers</td>\n",
       "      <td>3.0</td>\n",
       "      <td>TUESDAY</td>\n",
       "      <td>1</td>\n",
       "    </tr>\n",
       "    <tr>\n",
       "      <th>99997</th>\n",
       "      <td>216088</td>\n",
       "      <td>0</td>\n",
       "      <td>Cash loans</td>\n",
       "      <td>F</td>\n",
       "      <td>Y</td>\n",
       "      <td>Y</td>\n",
       "      <td>0</td>\n",
       "      <td>135000.0</td>\n",
       "      <td>1262583.0</td>\n",
       "      <td>1102500.0</td>\n",
       "      <td>...</td>\n",
       "      <td>4805</td>\n",
       "      <td>1</td>\n",
       "      <td>1</td>\n",
       "      <td>0</td>\n",
       "      <td>1</td>\n",
       "      <td>0</td>\n",
       "      <td>Sales staff</td>\n",
       "      <td>2.0</td>\n",
       "      <td>TUESDAY</td>\n",
       "      <td>1</td>\n",
       "    </tr>\n",
       "    <tr>\n",
       "      <th>99998</th>\n",
       "      <td>216089</td>\n",
       "      <td>0</td>\n",
       "      <td>Cash loans</td>\n",
       "      <td>F</td>\n",
       "      <td>Y</td>\n",
       "      <td>N</td>\n",
       "      <td>0</td>\n",
       "      <td>135000.0</td>\n",
       "      <td>225000.0</td>\n",
       "      <td>225000.0</td>\n",
       "      <td>...</td>\n",
       "      <td>340</td>\n",
       "      <td>1</td>\n",
       "      <td>1</td>\n",
       "      <td>0</td>\n",
       "      <td>1</td>\n",
       "      <td>0</td>\n",
       "      <td>Sales staff</td>\n",
       "      <td>2.0</td>\n",
       "      <td>FRIDAY</td>\n",
       "      <td>2</td>\n",
       "    </tr>\n",
       "    <tr>\n",
       "      <th>99999</th>\n",
       "      <td>216090</td>\n",
       "      <td>0</td>\n",
       "      <td>Revolving loans</td>\n",
       "      <td>M</td>\n",
       "      <td>Y</td>\n",
       "      <td>Y</td>\n",
       "      <td>0</td>\n",
       "      <td>202500.0</td>\n",
       "      <td>337500.0</td>\n",
       "      <td>337500.0</td>\n",
       "      <td>...</td>\n",
       "      <td>3230</td>\n",
       "      <td>1</td>\n",
       "      <td>1</td>\n",
       "      <td>1</td>\n",
       "      <td>1</td>\n",
       "      <td>0</td>\n",
       "      <td>Drivers</td>\n",
       "      <td>2.0</td>\n",
       "      <td>SATURDAY</td>\n",
       "      <td>0</td>\n",
       "    </tr>\n",
       "  </tbody>\n",
       "</table>\n",
       "<p>91907 rows × 24 columns</p>\n",
       "</div>"
      ],
      "text/plain": [
       "       SK_ID_CURR  TARGET NAME_CONTRACT_TYPE GENDER Car House  CNT_CHILDREN  \\\n",
       "1          100003       0         Cash loans      F   N     N             0   \n",
       "2          100004       0    Revolving loans      M   Y     Y             0   \n",
       "3          100006       0         Cash loans      F   N     Y             0   \n",
       "4          100007       0         Cash loans      M   N     Y             0   \n",
       "5          100008       0         Cash loans      M   N     Y             0   \n",
       "...           ...     ...                ...    ...  ..   ...           ...   \n",
       "99995      216086       0         Cash loans      F   N     Y             1   \n",
       "99996      216087       0         Cash loans      F   N     Y             1   \n",
       "99997      216088       0         Cash loans      F   Y     Y             0   \n",
       "99998      216089       0         Cash loans      F   Y     N             0   \n",
       "99999      216090       0    Revolving loans      M   Y     Y             0   \n",
       "\n",
       "       AMT_INCOME_TOTAL  AMT_CREDIT  AMT_GOODS_PRICE  ... DAYS_EMPLOYED  \\\n",
       "1              270000.0   1293502.5        1129500.0  ...          1188   \n",
       "2               67500.0    135000.0         135000.0  ...           225   \n",
       "3              135000.0    312682.5         297000.0  ...          3039   \n",
       "4              121500.0    513000.0         513000.0  ...          3038   \n",
       "5               99000.0    490495.5         454500.0  ...          1588   \n",
       "...                 ...         ...              ...  ...           ...   \n",
       "99995          157500.0    755190.0         675000.0  ...           232   \n",
       "99996          225000.0    284400.0         225000.0  ...           182   \n",
       "99997          135000.0   1262583.0        1102500.0  ...          4805   \n",
       "99998          135000.0    225000.0         225000.0  ...           340   \n",
       "99999          202500.0    337500.0         337500.0  ...          3230   \n",
       "\n",
       "      MOBILE WORK_PHONE HOME_PHONE  MOBILE_REACHABLE  FLAG_EMAIL  \\\n",
       "1          1          1          0                 1           0   \n",
       "2          1          1          1                 1           0   \n",
       "3          1          1          0                 1           0   \n",
       "4          1          1          0                 1           0   \n",
       "5          1          1          1                 1           0   \n",
       "...      ...        ...        ...               ...         ...   \n",
       "99995      1          1          1                 1           0   \n",
       "99996      1          1          0                 1           0   \n",
       "99997      1          1          0                 1           0   \n",
       "99998      1          1          0                 1           0   \n",
       "99999      1          1          1                 1           0   \n",
       "\n",
       "       OCCUPATION_TYPE  CNT_FAM_MEMBERS  APPLICATION_DAY  TOTAL_DOC_SUBMITTED  \n",
       "1           Core staff              2.0           MONDAY                    1  \n",
       "2             Laborers              1.0           MONDAY                    0  \n",
       "3             Laborers              2.0        WEDNESDAY                    1  \n",
       "4           Core staff              1.0         THURSDAY                    1  \n",
       "5             Laborers              2.0        WEDNESDAY                    1  \n",
       "...                ...              ...              ...                  ...  \n",
       "99995      Sales staff              3.0           MONDAY                    1  \n",
       "99996         Managers              3.0          TUESDAY                    1  \n",
       "99997      Sales staff              2.0          TUESDAY                    1  \n",
       "99998      Sales staff              2.0           FRIDAY                    2  \n",
       "99999          Drivers              2.0         SATURDAY                    0  \n",
       "\n",
       "[91907 rows x 24 columns]"
      ]
     },
     "execution_count": 86,
     "metadata": {},
     "output_type": "execute_result"
    }
   ],
   "source": [
    "NA_defaulters_data =df[(df.TARGET == 0)]\n",
    "NA_defaulters_data"
   ]
  },
  {
   "cell_type": "code",
   "execution_count": 144,
   "id": "c0e9d539",
   "metadata": {},
   "outputs": [
    {
     "data": {
      "image/png": "[encoded data removed]",
      "text/plain": [
       "<Figure size 1080x432 with 1 Axes>"
      ]
     },
     "metadata": {
      "needs_background": "light"
     },
     "output_type": "display_data"
    }
   ],
   "source": [
    "fig, ax = plt.subplots(figsize = (15,6))\n",
    "ax = sns.countplot(x='TARGET',hue='GENDER',data=defaulters_data , palette = 'YlOrRd')\n",
    "for bar in ax.patches:                                              # ax.patches returns the rectange object from matplotlib\n",
    "    percentage = f\"{round((bar.get_height() /len(df))*100, 2)}%\"          # first it calculate the bar height and then dividing by the number of rows in data(to calculate percentage) \n",
    "                                                                    # and multiply with 100 to get the percentage and rounding of by 2 numbers.  \n",
    "    x = bar.get_x() + bar.get_width() /2                            # get_x: returns the left corrdinate of the rectange, get_width: returns width of rectagle\n",
    "    y = bar.get_height()                                            # get_height: returns height of rectange\n",
    "    ax.annotate(percentage, (x, y), va = \"bottom\", ha =\"center\" )   # va bottom: means percentage would be above the bar head. \n",
    "                                                                    # annotate: used to annotate over objects, here objects are the bars\n",
    "plt.show()"
   ]
  },
  {
   "cell_type": "code",
   "execution_count": 145,
   "id": "1cc5c238",
   "metadata": {},
   "outputs": [
    {
     "data": {
      "image/png": "[encoded data removed]",
      "text/plain": [
       "<Figure size 1080x432 with 1 Axes>"
      ]
     },
     "metadata": {
      "needs_background": "light"
     },
     "output_type": "display_data"
    }
   ],
   "source": [
    "fig, ax = plt.subplots(figsize = (15, 6))\n",
    "ax = sns.countplot(x='TARGET',hue='GENDER',data=NA_defaulters_data , palette = 'viridis_r')\n",
    "for bar in ax.patches:                                              # ax.patches returns the rectange object from matplotlib\n",
    "    percentage = f\"{round((bar.get_height() /len(df))*100, 2)}%\"          # first it calculate the bar height and then dividing by the number of rows in data(to calculate percentage) \n",
    "                                                                    # and multiply with 100 to get the percentage and rounding of by 2 numbers.  \n",
    "    x = bar.get_x() + bar.get_width() /2                            # get_x: returns the left corrdinate of the rectange, get_width: returns width of rectagle\n",
    "    y = bar.get_height()                                            # get_height: returns height of rectange\n",
    "    ax.annotate(percentage, (x, y), va = \"bottom\", ha =\"center\" )\n",
    "\n",
    "\n",
    "plt.show()"
   ]
  },
  {
   "cell_type": "markdown",
   "id": "608cc498",
   "metadata": {},
   "source": [
    "### Interpretation:\n",
    "1. **The Female clients applied More than male clients for loan.**\n",
    "2. **61.24 % Female clients are non-defaulters while 30.66 % male clients are non-defaulters.**\n",
    "3. **4.61% Female clients are defaulters while 3.48% male clients are defaulters.**"
   ]
  },
  {
   "cell_type": "code",
   "execution_count": null,
   "id": "1a73649e",
   "metadata": {},
   "outputs": [],
   "source": [
    "Q.analysis of the data on bases on OCCUPATION Type"
   ]
  },
  {
   "cell_type": "code",
   "execution_count": 146,
   "id": "144e892e",
   "metadata": {},
   "outputs": [
    {
     "data": {
      "text/plain": [
       "Text(0.5, 1.0, 'OCCUPATION_TYPE Vs Target 0')"
      ]
     },
     "execution_count": 146,
     "metadata": {},
     "output_type": "execute_result"
    },
    {
     "data": {
      "image/png": "[encoded data removed]",
      "text/plain": [
       "<Figure size 720x432 with 1 Axes>"
      ]
     },
     "metadata": {
      "needs_background": "light"
     },
     "output_type": "display_data"
    }
   ],
   "source": [
    "# For Target 0      \n",
    "fig, ax = plt.subplots(figsize = (10,6))\n",
    "plt.xticks(rotation=45);\n",
    "sns.countplot(data=NA_defaulters_data,x='OCCUPATION_TYPE',\n",
    "              order=NA_defaulters_data['OCCUPATION_TYPE'].value_counts().index,palette='crest_r',hue = 'TARGET')\n",
    "plt.title(\"OCCUPATION_TYPE Vs Target 0\")"
   ]
  },
  {
   "cell_type": "code",
   "execution_count": 148,
   "id": "0867e1c5",
   "metadata": {},
   "outputs": [
    {
     "data": {
      "text/plain": [
       "Text(0.5, 1.0, 'OCCUPATION_TYPE Vs Target 1')"
      ]
     },
     "execution_count": 148,
     "metadata": {},
     "output_type": "execute_result"
    },
    {
     "data": {
      "image/png": "[encoded data removed]",
      "text/plain": [
       "<Figure size 1080x432 with 1 Axes>"
      ]
     },
     "metadata": {
      "needs_background": "light"
     },
     "output_type": "display_data"
    }
   ],
   "source": [
    "# For Target 1 \n",
    "fig, ax = plt.subplots(figsize = (15,6))\n",
    "plt.xticks(rotation=45);\n",
    "sns.countplot(data=defaulters_data,x='OCCUPATION_TYPE',\n",
    "              order=defaulters_data['OCCUPATION_TYPE'].value_counts().index,palette='afmhot',hue = 'TARGET')\n",
    "plt.title(\"OCCUPATION_TYPE Vs Target 1\")"
   ]
  },
  {
   "cell_type": "markdown",
   "id": "bd4766f1",
   "metadata": {},
   "source": [
    "### Interpretation:\n",
    "1. ** we observed that maximum people applied for loan is laboures,sales staf,driver,core staff.**\n",
    "2. ** we can observe that there are same no of people defaulters  non-defaulters.**\n"
   ]
  },
  {
   "cell_type": "markdown",
   "id": "664afa28",
   "metadata": {},
   "source": [
    "## bivariante Analysis of Numerical columns with respect to Target variable"
   ]
  },
  {
   "cell_type": "markdown",
   "id": "beaa56d4",
   "metadata": {},
   "source": [
    "## Level 2 Continuous to Continuous"
   ]
  },
  {
   "cell_type": "markdown",
   "id": "c60012a0",
   "metadata": {},
   "source": [
    "## Q.Analysis of Income of the client on defaulters and non defaulters."
   ]
  },
  {
   "cell_type": "code",
   "execution_count": 101,
   "id": "f34ced59",
   "metadata": {},
   "outputs": [
    {
     "name": "stderr",
     "output_type": "stream",
     "text": [
      "C:\\ProgramData\\Anaconda3\\lib\\site-packages\\seaborn\\distributions.py:2619: FutureWarning: `distplot` is a deprecated function and will be removed in a future version. Please adapt your code to use either `displot` (a figure-level function with similar flexibility) or `histplot` (an axes-level function for histograms).\n",
      "  warnings.warn(msg, FutureWarning)\n",
      "C:\\ProgramData\\Anaconda3\\lib\\site-packages\\seaborn\\distributions.py:2103: FutureWarning: The `axis` variable is no longer used and will be removed. Instead, assign variables directly to `x` or `y`.\n",
      "  warnings.warn(msg, FutureWarning)\n",
      "C:\\ProgramData\\Anaconda3\\lib\\site-packages\\seaborn\\distributions.py:2619: FutureWarning: `distplot` is a deprecated function and will be removed in a future version. Please adapt your code to use either `displot` (a figure-level function with similar flexibility) or `histplot` (an axes-level function for histograms).\n",
      "  warnings.warn(msg, FutureWarning)\n",
      "C:\\ProgramData\\Anaconda3\\lib\\site-packages\\seaborn\\distributions.py:2103: FutureWarning: The `axis` variable is no longer used and will be removed. Instead, assign variables directly to `x` or `y`.\n",
      "  warnings.warn(msg, FutureWarning)\n"
     ]
    },
    {
     "data": {
      "text/plain": [
       "<AxesSubplot:title={'center':'defaulters data vs AMT_INCOME_TOTAL'}, xlabel='AMT_INCOME_TOTAL', ylabel='Count'>"
      ]
     },
     "execution_count": 101,
     "metadata": {},
     "output_type": "execute_result"
    },
    {
     "data": {
      "image/png": "[encoded data removed]",
      "text/plain": [
       "<Figure size 1440x1800 with 4 Axes>"
      ]
     },
     "metadata": {
      "needs_background": "light"
     },
     "output_type": "display_data"
    }
   ],
   "source": [
    "plt.figure(figsize=(20,25))\n",
    "plt.subplot(411)\n",
    "                   \n",
    "plt.title('non defaulters data vs AMT_INCOME_TOTAL')\n",
    "sns.distplot(NA_defaulters_data['AMT_INCOME_TOTAL'], rug=True, hist=True)\n",
    "plt.subplot(412)\n",
    "\n",
    "plt.title('defaulters data vs AMT_INCOME_TOTAL')\n",
    "sns.distplot(defaulters_data['AMT_INCOME_TOTAL'], rug=True, hist=True)\n",
    "plt.subplot(413)\n",
    "\n",
    "plt.title('non defaulters data vs AMT_INCOME_TOTAL')\n",
    "sns.histplot(NA_defaulters_data['AMT_INCOME_TOTAL'], kde=True)\n",
    "plt.subplot(414)\n",
    "\n",
    "plt.title('defaulters data vs AMT_INCOME_TOTAL')\n",
    "sns.histplot(defaulters_data['AMT_INCOME_TOTAL'], kde=True)"
   ]
  },
  {
   "cell_type": "code",
   "execution_count": 152,
   "id": "211e13ba",
   "metadata": {},
   "outputs": [
    {
     "data": {
      "text/plain": [
       "<AxesSubplot:xlabel='AMT_INCOME_TOTAL'>"
      ]
     },
     "execution_count": 152,
     "metadata": {},
     "output_type": "execute_result"
    },
    {
     "data": {
      "image/png": "[encoded data removed]",
      "text/plain": [
       "<Figure size 1080x504 with 2 Axes>"
      ]
     },
     "metadata": {
      "needs_background": "light"
     },
     "output_type": "display_data"
    }
   ],
   "source": [
    "fig, ax = plt.subplots(1, 2, figsize = (15, 7))\n",
    "\n",
    "sns.rugplot(NA_defaulters_data['AMT_INCOME_TOTAL'],height=0.6,ax=ax[0])\n",
    "sns.rugplot(defaulters_data['AMT_INCOME_TOTAL'],height=0.6,ax=ax[1])\n"
   ]
  },
  {
   "cell_type": "markdown",
   "id": "a5cfd17d",
   "metadata": {},
   "source": [
    "### Interpretation:\n",
    "People with Defaulters has largely staggered income as compared to NON defaulters."
   ]
  },
  {
   "cell_type": "markdown",
   "id": "9b2df489",
   "metadata": {},
   "source": [
    "### Level 2 Categorical to Continuous"
   ]
  },
  {
   "cell_type": "markdown",
   "id": "1af37f37",
   "metadata": {},
   "source": [
    "CAT-NUM ANALYSIS (relationship between categorical and numerical data) \n",
    "-----------------------------------------------------------------------------------------------------------"
   ]
  },
  {
   "cell_type": "code",
   "execution_count": 105,
   "id": "5afe0239",
   "metadata": {},
   "outputs": [
    {
     "name": "stdout",
     "output_type": "stream",
     "text": [
      "categorical          continuous\n",
      "-------------------  -------------------\n",
      "NAME_CONTRACT_TYPE   SK_ID_CURR\n",
      "GENDER               TARGET\n",
      "Car                  CNT_CHILDREN\n",
      "House                AMT_INCOME_TOTAL\n",
      "NAME_TYPE_SUITE      AMT_CREDIT\n",
      "NAME_INCOME_TYPE     AMT_GOODS_PRICE\n",
      "NAME_EDUCATION_TYPE  DAYS_EMPLOYED\n",
      "NAME_FAMILY_STATUS   MOBILE\n",
      "OCCUPATION_TYPE      WORK_PHONE\n",
      "APPLICATION_DAY      HOME_PHONE\n",
      "                     MOBILE_REACHABLE\n",
      "                     FLAG_EMAIL\n",
      "                     CNT_FAM_MEMBERS\n",
      "                     TOTAL_DOC_SUBMITTED\n"
     ]
    }
   ],
   "source": [
    "a_lst=list(a.columns)\n",
    "b_lst=list(b.columns)\n",
    "\n",
    "table = [b_lst, a_lst]\n",
    "\n",
    "print(tabulate({\"Categorical\":b_lst,\n",
    "                \"continuous\": a_lst}, headers = [\"categorical\", \"continuous\"]))"
   ]
  },
  {
   "cell_type": "markdown",
   "id": "f348663a",
   "metadata": {},
   "source": [
    "## Q.analysis of the client having car and are defaulters or not?"
   ]
  },
  {
   "cell_type": "code",
   "execution_count": 111,
   "id": "a10c2aa9",
   "metadata": {},
   "outputs": [
    {
     "data": {
      "image/png": "[encoded data removed]",
      "text/plain": [
       "<Figure size 720x432 with 1 Axes>"
      ]
     },
     "metadata": {
      "needs_background": "light"
     },
     "output_type": "display_data"
    }
   ],
   "source": [
    "fig, ax = plt.subplots( figsize = (10, 6))\n",
    "sns.histplot(x = df[\"Car\"], hue = df[\"TARGET\"])\n",
    "for bar in ax.patches:                                              # ax.patches returns the rectange object from matplotlib\n",
    "    percentage = f\"{round((bar.get_height() /len(df))*100, 2)}%\"          # first it calculate the bar height and then dividing by the number of rows in data(to calculate percentage) \n",
    "                                                                    # and multiply with 100 to get the percentage and rounding of by 2 numbers.  \n",
    "    x = bar.get_x() + bar.get_width() /2                            # get_x: returns the left corrdinate of the rectange, get_width: returns width of rectagle\n",
    "    y = bar.get_height()                                            # get_height: returns height of rectange\n",
    "    ax.annotate(percentage, (x, y), va = \"bottom\", ha =\"center\" )\n",
    "plt.show()\n"
   ]
  },
  {
   "cell_type": "markdown",
   "id": "db497889",
   "metadata": {},
   "source": [
    "### Interpretation:\n",
    "we can observe that person having car are having more difficultes in paying loans."
   ]
  },
  {
   "cell_type": "markdown",
   "id": "2b203b00",
   "metadata": {},
   "source": [
    "## Q.analysis of the customer who has there own house and chect there target."
   ]
  },
  {
   "cell_type": "code",
   "execution_count": 156,
   "id": "d653fc08",
   "metadata": {},
   "outputs": [
    {
     "data": {
      "image/png": "[encoded data removed]",
      "text/plain": [
       "<Figure size 864x504 with 1 Axes>"
      ]
     },
     "metadata": {
      "needs_background": "light"
     },
     "output_type": "display_data"
    }
   ],
   "source": [
    "fig, ax = plt.subplots(figsize = (12, 7))\n",
    "sns.histplot(x = df[\"House\"], hue = df[\"TARGET\"])\n",
    "for bar in ax.patches:                                              # ax.patches returns the rectange object from matplotlib\n",
    "    percentage = f\"{round((bar.get_height() /len(df))*100, 2)}%\"          # first it calculate the bar height and then dividing by the number of rows in data(to calculate percentage) \n",
    "                                                                    # and multiply with 100 to get the percentage and rounding of by 2 numbers.  \n",
    "    x = bar.get_x() + bar.get_width() /2                            # get_x: returns the left corrdinate of the rectange, get_width: returns width of rectagle\n",
    "    y = bar.get_height()                                            # get_height: returns height of rectange\n",
    "    ax.annotate(percentage, (x, y), va = \"bottom\", ha =\"center\" )\n",
    "plt.show()\n"
   ]
  },
  {
   "cell_type": "markdown",
   "id": "01e646b5",
   "metadata": {},
   "source": [
    "### Interpretation:\n",
    "the client having a home does not affect on there loan repaying process. because we can observe there have nearly same ratio."
   ]
  },
  {
   "cell_type": "markdown",
   "id": "613bc0a7",
   "metadata": {},
   "source": [
    "## Q.analysis of the on the bases of Education type."
   ]
  },
  {
   "cell_type": "code",
   "execution_count": 155,
   "id": "d342ca42",
   "metadata": {},
   "outputs": [
    {
     "data": {
      "image/png": "[encoded data removed]",
      "text/plain": [
       "<Figure size 864x504 with 1 Axes>"
      ]
     },
     "metadata": {
      "needs_background": "light"
     },
     "output_type": "display_data"
    }
   ],
   "source": [
    "fig, ax = plt.subplots(figsize = (12,7))\n",
    "sns.histplot(x = df[\"NAME_EDUCATION_TYPE\"], hue = df[\"TARGET\"])\n",
    "for bar in ax.patches:                                              # ax.patches returns the rectange object from matplotlib\n",
    "    percentage = f\"{round((bar.get_height() /len(df))*100, 2)}%\"          # first it calculate the bar height and then dividing by the number of rows in data(to calculate percentage) \n",
    "                                                                    # and multiply with 100 to get the percentage and rounding of by 2 numbers.  \n",
    "    x = bar.get_x() + bar.get_width() /2                            # get_x: returns the left corrdinate of the rectange, get_width: returns width of rectagle\n",
    "    y = bar.get_height()                                            # get_height: returns height of rectange\n",
    "    ax.annotate(percentage, (x, y), va = \"bottom\", ha =\"center\" )\n",
    "plt.show()\n"
   ]
  },
  {
   "cell_type": "markdown",
   "id": "f3949c2e",
   "metadata": {},
   "source": [
    "### Interpretation:\n",
    "we can observe the that people from acedemic degree are very less in count.\n",
    "we can see that client having higher education are having more difficult in paying loan amount,on second the client who incomplete education.\n",
    "the bank should be strick to higher education and incomplete education Client."
   ]
  },
  {
   "cell_type": "markdown",
   "id": "a05ae564",
   "metadata": {},
   "source": [
    "## Further Analysis (Level 3):\n",
    "Let's look into the data to check if there is an additional information about the employees attrition who are males."
   ]
  },
  {
   "cell_type": "markdown",
   "id": "21b1b754",
   "metadata": {},
   "source": [
    "## Q.Analysis of the education and there total income also consider the family status."
   ]
  },
  {
   "cell_type": "code",
   "execution_count": 157,
   "id": "70feb1d4",
   "metadata": {},
   "outputs": [
    {
     "data": {
      "text/plain": [
       "<AxesSubplot:xlabel='NAME_EDUCATION_TYPE', ylabel='AMT_INCOME_TOTAL'>"
      ]
     },
     "execution_count": 157,
     "metadata": {},
     "output_type": "execute_result"
    },
    {
     "data": {
      "image/png": "[encoded data removed]",
      "text/plain": [
       "<Figure size 1440x720 with 1 Axes>"
      ]
     },
     "metadata": {
      "needs_background": "light"
     },
     "output_type": "display_data"
    }
   ],
   "source": [
    "plt.figure(figsize=(20,10)) \n",
    "plt.yscale('log')                     #As the values are too large, it is convinient to use log for better analysis\n",
    "plt.xticks(rotation = 0)\n",
    "sns.boxplot(data =df, x='NAME_EDUCATION_TYPE',y='AMT_INCOME_TOTAL',   #Boxplot w.r.t Data Target 0\n",
    "            hue ='NAME_FAMILY_STATUS',palette='Set2')"
   ]
  },
  {
   "cell_type": "markdown",
   "id": "b5b31894",
   "metadata": {},
   "source": [
    "### Interpretation:\n",
    "1. **Clients having Higher Education, Incomplete Higher Education,Secondary/Secondary Special have a higher number of outliers.\n",
    "2. **widow are having less total income also they have less outlier"
   ]
  },
  {
   "cell_type": "markdown",
   "id": "e4fdf046",
   "metadata": {},
   "source": [
    "## Q.Show the co-relation between all the continuous data present?"
   ]
  },
  {
   "cell_type": "code",
   "execution_count": 123,
   "id": "93cfd326",
   "metadata": {
    "scrolled": true
   },
   "outputs": [
    {
     "data": {
      "text/plain": [
       "<AxesSubplot:>"
      ]
     },
     "execution_count": 123,
     "metadata": {},
     "output_type": "execute_result"
    },
    {
     "data": {
      "image/png": "[encoded data removed]",
      "text/plain": [
       "<Figure size 720x432 with 2 Axes>"
      ]
     },
     "metadata": {
      "needs_background": "light"
     },
     "output_type": "display_data"
    }
   ],
   "source": [
    "plt.figure(figsize=(10,6))\n",
    "sns.heatmap(corr_df,annot=True,fmt='.1f',cbar=True)"
   ]
  },
  {
   "cell_type": "markdown",
   "id": "27c2ef40",
   "metadata": {},
   "source": [
    "### Interpretation:\n",
    "1. **there are very few column who has some corelation between them as we observe in heatmap."
   ]
  },
  {
   "cell_type": "markdown",
   "id": "7a0df112",
   "metadata": {},
   "source": [
    "## Q. Analizer the data of Defaulters and non Defaulters on amount credit to amount of goods they keep with bank?"
   ]
  },
  {
   "cell_type": "code",
   "execution_count": 120,
   "id": "2d8e14b2",
   "metadata": {},
   "outputs": [
    {
     "data": {
      "text/plain": [
       "<seaborn.axisgrid.FacetGrid at 0x1e72ffbc610>"
      ]
     },
     "execution_count": 120,
     "metadata": {},
     "output_type": "execute_result"
    },
    {
     "data": {
      "image/png": "[encoded data removed]",
      "text/plain": [
       "<Figure size 407x360 with 1 Axes>"
      ]
     },
     "metadata": {
      "needs_background": "light"
     },
     "output_type": "display_data"
    }
   ],
   "source": [
    "sb.lmplot(x='AMT_GOODS_PRICE',y='AMT_CREDIT',hue='TARGET',data=df)"
   ]
  },
  {
   "cell_type": "markdown",
   "id": "b3b77c25",
   "metadata": {},
   "source": [
    "### Interpretation:\n",
    "1. **we found no relation between the amount credit and good price amount.we can also observe the same things in heatmap."
   ]
  },
  {
   "cell_type": "markdown",
   "id": "c506f956",
   "metadata": {},
   "source": [
    "## Q.how the document submited by the people effect the Defaulters value."
   ]
  },
  {
   "cell_type": "code",
   "execution_count": 121,
   "id": "5834709e",
   "metadata": {},
   "outputs": [
    {
     "data": {
      "text/plain": [
       "<seaborn.axisgrid.FacetGrid at 0x1e72ff9fcd0>"
      ]
     },
     "execution_count": 121,
     "metadata": {},
     "output_type": "execute_result"
    },
    {
     "data": {
      "image/png": "[encoded data removed]",
      "text/plain": [
       "<Figure size 407x360 with 1 Axes>"
      ]
     },
     "metadata": {
      "needs_background": "light"
     },
     "output_type": "display_data"
    }
   ],
   "source": [
    "sb.lmplot(x='TOTAL_DOC_SUBMITTED',y='AMT_CREDIT',hue='TARGET',data=df)"
   ]
  },
  {
   "cell_type": "markdown",
   "id": "9a4c4249",
   "metadata": {},
   "source": [
    "### Interpretation:\n",
    "1. we observe that the Defaulters client submit the more documents and having less amount CREDIT. \n",
    "2. bank should avoide the coustomer less document and high credit amount."
   ]
  },
  {
   "cell_type": "markdown",
   "id": "3e19c6b4",
   "metadata": {},
   "source": [
    "## Q. analysis on the name contract type, gender also include target"
   ]
  },
  {
   "cell_type": "code",
   "execution_count": 131,
   "id": "5b459859",
   "metadata": {},
   "outputs": [
    {
     "data": {
      "text/plain": [
       "NAME_CONTRACT_TYPE  GENDER  TARGET\n",
       "Cash loans          F       0         55215\n",
       "                            1          4263\n",
       "                    M       0         27740\n",
       "                            1          3299\n",
       "Revolving loans     F       0          6028\n",
       "                            1           352\n",
       "                    M       0          2924\n",
       "                            1           179\n",
       "Name: GENDER, dtype: int64"
      ]
     },
     "execution_count": 131,
     "metadata": {},
     "output_type": "execute_result"
    }
   ],
   "source": [
    "gb=df.groupby(by=['NAME_CONTRACT_TYPE','GENDER','TARGET'])['GENDER'].count()\n",
    "gb"
   ]
  },
  {
   "cell_type": "code",
   "execution_count": 137,
   "id": "57640d97",
   "metadata": {},
   "outputs": [
    {
     "data": {
      "image/png": "[encoded data removed]",
      "text/plain": [
       "<Figure size 432x288 with 1 Axes>"
      ]
     },
     "metadata": {
      "needs_background": "light"
     },
     "output_type": "display_data"
    }
   ],
   "source": [
    "gb.plot.bar();"
   ]
  },
  {
   "cell_type": "markdown",
   "id": "a7248315",
   "metadata": {},
   "source": [
    "### Interpretation:\n",
    "1. Female having cash loans are more in number in having problem in paying loan."
   ]
  },
  {
   "cell_type": "markdown",
   "id": "e2ffc36a",
   "metadata": {},
   "source": [
    "### The End"
   ]
  }
 ],
 "metadata": {
  "kernelspec": {
   "display_name": "Python 3 (ipykernel)",
   "language": "python",
   "name": "python3"
  },
  "language_info": {
   "codemirror_mode": {
    "name": "ipython",
    "version": 3
   },
   "file_extension": ".py",
   "mimetype": "text/x-python",
   "name": "python",
   "nbconvert_exporter": "python",
   "pygments_lexer": "ipython3",
   "version": "3.9.12"
  }
 },
 "nbformat": 4,
 "nbformat_minor": 5
}
